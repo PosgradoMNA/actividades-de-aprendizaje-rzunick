{
  "nbformat": 4,
  "nbformat_minor": 0,
  "metadata": {
    "colab": {
      "provenance": [],
      "collapsed_sections": [
        "e-ToOY8edzIR",
        "V4jKBWrEd9p_",
        "np-ZYSrrdwI6"
      ],
      "authorship_tag": "ABX9TyPlY5PSwV6ZRf2iCGL5iJkO",
      "include_colab_link": true
    },
    "kernelspec": {
      "name": "python3",
      "display_name": "Python 3"
    },
    "language_info": {
      "name": "python"
    }
  },
  "cells": [
    {
      "cell_type": "markdown",
      "metadata": {
        "id": "view-in-github",
        "colab_type": "text"
      },
      "source": [
        "<a href=\"https://colab.research.google.com/github/PosgradoMNA/actividades-de-aprendizaje-rzunick/blob/main/Semana_1_Actividad_2_Ronald_Zuniga_A01686240.ipynb\" target=\"_parent\"><img src=\"https://colab.research.google.com/assets/colab-badge.svg\" alt=\"Open In Colab\"/></a>"
      ]
    },
    {
      "cell_type": "markdown",
      "source": [
        "**Semana 1 - Actividad 2: Python for Data Science (IBM)**\n",
        "\n",
        "Módulos 1 - 3"
      ],
      "metadata": {
        "id": "g2If6IzcfiKz"
      }
    },
    {
      "cell_type": "markdown",
      "source": [
        "#Module 1 - Python Basics"
      ],
      "metadata": {
        "id": "e-ToOY8edzIR"
      }
    },
    {
      "cell_type": "markdown",
      "source": [
        "My First Program Workspace"
      ],
      "metadata": {
        "id": "kiINou8tvMp7"
      }
    },
    {
      "cell_type": "code",
      "execution_count": 20,
      "metadata": {
        "colab": {
          "base_uri": "https://localhost:8080/"
        },
        "outputId": "edb52f40-05c6-44fc-a59e-841bda348539",
        "id": "xKji527QhY5q"
      },
      "outputs": [
        {
          "output_type": "stream",
          "name": "stdout",
          "text": [
            "Hello Python101\n"
          ]
        }
      ],
      "source": [
        "#Print statement\n",
        "print(\"Hello Python101\")"
      ]
    },
    {
      "cell_type": "markdown",
      "source": [
        "Expressions and Variables"
      ],
      "metadata": {
        "id": "N0MFCm4AvG7Z"
      }
    },
    {
      "cell_type": "code",
      "source": [
        "print(\"Hello\\nWorld!\")"
      ],
      "metadata": {
        "colab": {
          "base_uri": "https://localhost:8080/"
        },
        "id": "ThT8LJHEV8B0",
        "outputId": "8a116978-a651-4580-bbb4-057dc9323a1c"
      },
      "execution_count": 21,
      "outputs": [
        {
          "output_type": "stream",
          "name": "stdout",
          "text": [
            "Hello\n",
            "World!\n"
          ]
        }
      ]
    },
    {
      "cell_type": "code",
      "source": [
        "# print('Hello World!')"
      ],
      "metadata": {
        "id": "UbW5JzXaWZau"
      },
      "execution_count": 22,
      "outputs": []
    },
    {
      "cell_type": "code",
      "source": [
        "bool(\"1\")"
      ],
      "metadata": {
        "colab": {
          "base_uri": "https://localhost:8080/"
        },
        "id": "ZdUFFfIAW4D-",
        "outputId": "3d49777e-9a28-4db4-8fa7-58856e893772"
      },
      "execution_count": 23,
      "outputs": [
        {
          "output_type": "execute_result",
          "data": {
            "text/plain": [
              "True"
            ]
          },
          "metadata": {},
          "execution_count": 23
        }
      ]
    },
    {
      "cell_type": "code",
      "source": [
        "type(int(1.0))"
      ],
      "metadata": {
        "colab": {
          "base_uri": "https://localhost:8080/"
        },
        "id": "H6eMid9LYQAN",
        "outputId": "67b9c695-116b-403b-86aa-2688ba78faa8"
      },
      "execution_count": 24,
      "outputs": [
        {
          "output_type": "execute_result",
          "data": {
            "text/plain": [
              "int"
            ]
          },
          "metadata": {},
          "execution_count": 24
        }
      ]
    },
    {
      "cell_type": "code",
      "source": [
        "bool(1)"
      ],
      "metadata": {
        "colab": {
          "base_uri": "https://localhost:8080/"
        },
        "id": "O7rSNy2mYYy8",
        "outputId": "1c05b314-ad88-4f8c-f261-29bf6be94d92"
      },
      "execution_count": 25,
      "outputs": [
        {
          "output_type": "execute_result",
          "data": {
            "text/plain": [
              "True"
            ]
          },
          "metadata": {},
          "execution_count": 25
        }
      ]
    },
    {
      "cell_type": "code",
      "source": [
        "(43+60+16+41-185*2.5)//2"
      ],
      "metadata": {
        "colab": {
          "base_uri": "https://localhost:8080/"
        },
        "id": "TKNctHEHZ5xL",
        "outputId": "da535a98-1acc-4360-9c3f-f9a624409fcd"
      },
      "execution_count": 26,
      "outputs": [
        {
          "output_type": "execute_result",
          "data": {
            "text/plain": [
              "-152.0"
            ]
          },
          "metadata": {},
          "execution_count": 26
        }
      ]
    },
    {
      "cell_type": "code",
      "source": [
        "my_variable=1\n",
        "my_variable"
      ],
      "metadata": {
        "colab": {
          "base_uri": "https://localhost:8080/"
        },
        "id": "gWAC0jeEaIrZ",
        "outputId": "274062a5-ce2d-436d-8cb7-3bd5ab056d0f"
      },
      "execution_count": 27,
      "outputs": [
        {
          "output_type": "execute_result",
          "data": {
            "text/plain": [
              "1"
            ]
          },
          "metadata": {},
          "execution_count": 27
        }
      ]
    },
    {
      "cell_type": "code",
      "source": [
        "my_variable=2+60//3\n",
        "my_variable"
      ],
      "metadata": {
        "colab": {
          "base_uri": "https://localhost:8080/"
        },
        "id": "bIKWjed1aSpv",
        "outputId": "88c4c519-b02d-4d63-fa9e-02171cb05823"
      },
      "execution_count": 28,
      "outputs": [
        {
          "output_type": "execute_result",
          "data": {
            "text/plain": [
              "22"
            ]
          },
          "metadata": {},
          "execution_count": 28
        }
      ]
    },
    {
      "cell_type": "code",
      "source": [
        "total_min=40+60\n",
        "total_hr=total_min/60\n",
        "print(total_min)\n",
        "print(total_hr)"
      ],
      "metadata": {
        "colab": {
          "base_uri": "https://localhost:8080/"
        },
        "id": "RJO0Hnq0asD6",
        "outputId": "a03fc1bc-ea08-4352-848e-bab61bd5f688"
      },
      "execution_count": 29,
      "outputs": [
        {
          "output_type": "stream",
          "name": "stdout",
          "text": [
            "100\n",
            "1.6666666666666667\n"
          ]
        }
      ]
    },
    {
      "cell_type": "code",
      "source": [
        "#String Operations\n",
        "Name=\"Michael Jackson\"\n",
        "print(len(Name))\n",
        "print(Name[0:5:2])\n",
        "\n",
        "Numbers=\"0123456\"\n",
        "print(Numbers[::2])\n",
        "\n",
        "print(\"0123456\".find('1'))"
      ],
      "metadata": {
        "colab": {
          "base_uri": "https://localhost:8080/"
        },
        "id": "Bj096JP0pdtx",
        "outputId": "f3a638f2-fcaa-45b0-ea4a-b4e6adc58d1d"
      },
      "execution_count": 30,
      "outputs": [
        {
          "output_type": "stream",
          "name": "stdout",
          "text": [
            "15\n",
            "Mca\n",
            "0246\n",
            "1\n"
          ]
        }
      ]
    },
    {
      "cell_type": "markdown",
      "source": [
        "Lab - Write your first Python Code"
      ],
      "metadata": {
        "id": "u6EM2QgavVDN"
      }
    },
    {
      "cell_type": "code",
      "source": [
        "# Try your first Python output\n",
        "\n",
        "print('Hello, Python!')\n",
        "\n",
        "# Check the Python Version\n",
        "import sys\n",
        "print(sys.version)\n",
        "\n",
        "# Print string and error to see the running order\n",
        "\n",
        "#print(\"This will be printed\")\n",
        "#frint(\"This will cause an error\")\n",
        "#print(\"This will NOT be printed\")\n",
        "\n",
        "\n"
      ],
      "metadata": {
        "colab": {
          "base_uri": "https://localhost:8080/"
        },
        "id": "IZM8fWcMvUDw",
        "outputId": "eb50006d-5413-49fd-e2cc-da92ff89cd8a"
      },
      "execution_count": 31,
      "outputs": [
        {
          "output_type": "stream",
          "name": "stdout",
          "text": [
            "Hello, Python!\n",
            "3.7.14 (default, Sep  8 2022, 00:06:44) \n",
            "[GCC 7.5.0]\n"
          ]
        }
      ]
    },
    {
      "cell_type": "code",
      "source": [
        "#Review Questions\n",
        "name=\"Lizz\"\n",
        "print(name[0:2])\n",
        "\n",
        "var=\"01234567\"\n",
        "print(var[::2])\n",
        "\n",
        "print(\"1\"+\"2\")\n",
        "\n",
        "myvar=\"hello\"\n",
        "print(myvar)\n",
        "print(myvar.upper())"
      ],
      "metadata": {
        "colab": {
          "base_uri": "https://localhost:8080/"
        },
        "id": "tnQuAtDhzWir",
        "outputId": "e382e838-d64f-4a9b-fc8a-46bb640bdf8c"
      },
      "execution_count": 32,
      "outputs": [
        {
          "output_type": "stream",
          "name": "stdout",
          "text": [
            "Li\n",
            "0246\n",
            "12\n",
            "hello\n",
            "HELLO\n"
          ]
        }
      ]
    },
    {
      "cell_type": "markdown",
      "source": [
        "![Progress 1.jpg](data:image/jpeg;base64,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)"
      ],
      "metadata": {
        "id": "Z375jn7A1Ve_"
      }
    },
    {
      "cell_type": "markdown",
      "source": [
        "#Module 2 - Python Data Structures"
      ],
      "metadata": {
        "id": "V4jKBWrEd9p_"
      }
    },
    {
      "cell_type": "code",
      "execution_count": 33,
      "metadata": {
        "id": "cIR3_tJJhnUW"
      },
      "outputs": [],
      "source": [
        "#Workspace for code tryouts"
      ]
    },
    {
      "cell_type": "markdown",
      "source": [
        "Lab - Lists and Tuples"
      ],
      "metadata": {
        "id": "KPG_Bg5GOxoD"
      }
    },
    {
      "cell_type": "code",
      "source": [
        "#Create a Tuple\n",
        "A=(0,1,2,3)\n",
        "print(A)\n",
        "\n",
        "#Access Elements\n",
        "print(A[0:2])\n",
        "\n",
        "#Creating Lists\n",
        "B=[\"a\",\"b\",\"c\"]\n",
        "print(B[0:2])\n",
        "\n",
        "#Editing Lists\n",
        "B[0]=\"A\"\n",
        "print(B)"
      ],
      "metadata": {
        "colab": {
          "base_uri": "https://localhost:8080/"
        },
        "id": "YIpp5kuoO97v",
        "outputId": "64aaad66-a16c-4427-9c3f-5460ab85145b"
      },
      "execution_count": 34,
      "outputs": [
        {
          "output_type": "stream",
          "name": "stdout",
          "text": [
            "(0, 1, 2, 3)\n",
            "(0, 1)\n",
            "['a', 'b']\n",
            "['A', 'b', 'c']\n"
          ]
        }
      ]
    },
    {
      "cell_type": "code",
      "source": [
        "# Create your first tuple\n",
        "tuple1 = (\"disco\",10,1.2 )\n",
        "\n",
        "# Print the type of the tuple you created\n",
        "type(tuple1)\n",
        "\n",
        "# Print the variable on each index\n",
        "print(tuple1[0])\n",
        "print(tuple1[1])\n",
        "print(tuple1[2])\n",
        "\n",
        "# Print the type of value on each index\n",
        "print(type(tuple1[0]))\n",
        "print(type(tuple1[1]))\n",
        "print(type(tuple1[2]))\n",
        "\n",
        "# Use negative index to get the value of the last element\n",
        "print(tuple1[-3])\n",
        "\n",
        "# Concatenate two tuples\n",
        "tuple2 = tuple1 + (\"hard rock\", 10)\n",
        "print(tuple2)\n",
        "\n",
        "# Slice from index n to index m\n",
        "print(tuple2[3:5])\n",
        "print(len(tuple2))\n",
        "\n",
        "# Sorting sample tuple\n",
        "Ratings = (0, 9, 6, 5, 10, 8, 9, 6, 2)\n",
        "RatingsSorted = sorted(Ratings)\n",
        "print(Ratings)\n",
        "print(RatingsSorted)\n",
        "\n",
        "# Create a nest tuple\n",
        "NestedT =(1, 2, (\"pop\", \"rock\") ,(3,4),(\"disco\",(1,2)))\n",
        "\n",
        "# Print element on each index\n",
        "print(\"Element 0 of Tuple: \", NestedT[0])\n",
        "print(\"Element 1 of Tuple: \", NestedT[1])\n",
        "print(\"Element 2 of Tuple: \", NestedT[2])\n",
        "print(\"Element 3 of Tuple: \", NestedT[3])\n",
        "print(\"Element 4 of Tuple: \", NestedT[4])\n",
        "\n",
        "# Print element on each index, including nest indexes\n",
        "print(\"Element 2, 0 of Tuple: \",   NestedT[2][0])\n",
        "print(\"Element 2, 1 of Tuple: \",   NestedT[2][1])\n",
        "print(\"Element 3, 0 of Tuple: \",   NestedT[3][0])\n",
        "print(\"Element 3, 1 of Tuple: \",   NestedT[3][1])\n",
        "print(\"Element 4, 0 of Tuple: \",   NestedT[4][0])\n",
        "print(\"Element 4, 1 of Tuple: \",   NestedT[4][1])\n",
        "\n",
        "# Print the second element in the second nested tuples\n",
        "NestedT[4][1][1]\n",
        "\n"
      ],
      "metadata": {
        "colab": {
          "base_uri": "https://localhost:8080/"
        },
        "id": "37-18uAslHsD",
        "outputId": "322e209a-6dc6-4a2d-a757-2014cb5d6bc4"
      },
      "execution_count": 35,
      "outputs": [
        {
          "output_type": "stream",
          "name": "stdout",
          "text": [
            "disco\n",
            "10\n",
            "1.2\n",
            "<class 'str'>\n",
            "<class 'int'>\n",
            "<class 'float'>\n",
            "disco\n",
            "('disco', 10, 1.2, 'hard rock', 10)\n",
            "('hard rock', 10)\n",
            "5\n",
            "(0, 9, 6, 5, 10, 8, 9, 6, 2)\n",
            "[0, 2, 5, 6, 6, 8, 9, 9, 10]\n",
            "Element 0 of Tuple:  1\n",
            "Element 1 of Tuple:  2\n",
            "Element 2 of Tuple:  ('pop', 'rock')\n",
            "Element 3 of Tuple:  (3, 4)\n",
            "Element 4 of Tuple:  ('disco', (1, 2))\n",
            "Element 2, 0 of Tuple:  pop\n",
            "Element 2, 1 of Tuple:  rock\n",
            "Element 3, 0 of Tuple:  3\n",
            "Element 3, 1 of Tuple:  4\n",
            "Element 4, 0 of Tuple:  disco\n",
            "Element 4, 1 of Tuple:  (1, 2)\n"
          ]
        },
        {
          "output_type": "execute_result",
          "data": {
            "text/plain": [
              "2"
            ]
          },
          "metadata": {},
          "execution_count": 35
        }
      ]
    },
    {
      "cell_type": "code",
      "source": [
        "# Quiz on Tuples\n",
        "\n",
        "# sample tuple\n",
        "genres_tuple = (\"pop\", \"rock\", \"soul\", \"hard rock\", \"soft rock\", \\\n",
        "                \"R&B\", \"progressive rock\", \"disco\") \n",
        "#Find the length of the tuple, genres_tuple:\n",
        "print(len(genres_tuple))\n",
        "\n",
        "#Access the element, with respect to index 3\n",
        "print(genres_tuple[3])\n",
        "\n",
        "#Use slicing to obtain indexes 3, 4 and 5\n",
        "print(genres_tuple[3:6])\n",
        "\n",
        "#Find the first two elements of the tuple genres_tuple\n",
        "print(genres_tuple[0:2])\n",
        "\n",
        "#Find the first index of \"disco\"\n",
        "print(genres_tuple.index(\"disco\"))\n",
        "\n",
        "#Generate a sorted List from the Tuple C_tuple=(-5, 1, -3)\n",
        "C_tuple=(-5,1,-3)\n",
        "C_list=sorted(C_tuple)\n",
        "print(C_list)\n",
        "\n"
      ],
      "metadata": {
        "colab": {
          "base_uri": "https://localhost:8080/"
        },
        "id": "t2Bna6Zi1RS2",
        "outputId": "eaaccd26-33f5-42c6-b046-212517b5ba26"
      },
      "execution_count": 36,
      "outputs": [
        {
          "output_type": "stream",
          "name": "stdout",
          "text": [
            "8\n",
            "hard rock\n",
            "('hard rock', 'soft rock', 'R&B')\n",
            "('pop', 'rock')\n",
            "7\n",
            "[-5, -3, 1]\n"
          ]
        }
      ]
    },
    {
      "cell_type": "code",
      "source": [
        "# Create a list\n",
        "L = [\"Michael Jackson\", 10.1,1982,\"MJ\",1]\n",
        "L\n",
        "\n",
        "# Print the elements on each index\n",
        "print('the same element using negative and positive indexing:\\n Postive:',L[0],\n",
        "'\\n Negative:' , L[-3]  )\n",
        "print('the same element using negative and positive indexing:\\n Postive:',L[1],\n",
        "'\\n Negative:' , L[-2]  )\n",
        "print('the same element using negative and positive indexing:\\n Postive:',L[2],\n",
        "'\\n Negative:' , L[-1]  )\n",
        "\n",
        "# Sample List\n",
        "[\"Michael Jackson\", 10.1, 1982, [1, 2], (\"A\", 1)]\n",
        "\n",
        "# List slicing\n",
        "print(L[3:5])\n",
        "\n",
        "# Use extend to add elements to list\n",
        "L = [ \"Michael Jackson\", 10.2]\n",
        "L.extend(['pop', 10])\n",
        "print(L)\n",
        "\n",
        "# Use append to add elements to list\n",
        "L = [ \"Michael Jackson\", 10.2]\n",
        "L.append(['pop', 10])\n",
        "print(L)\n",
        "\n",
        "# Change the element based on the index\n",
        "A = [\"disco\", 10, 1.2]\n",
        "print('Before change:', A)\n",
        "A[0] = 'hard rock'\n",
        "print('After change:', A)\n",
        "\n",
        "# Delete the element based on the index\n",
        "print('Before change:', A)\n",
        "del(A[0])\n",
        "print('After change:', A)\n",
        "\n",
        "# Split the string, default is by space\n",
        "'hard rock'.split()\n",
        "\n",
        "# Split the string by comma\n",
        "'A,B,C,D'.split(',')\n",
        "\n",
        "# Copy (copy by reference) the list A\n",
        "A = [\"hard rock\", 10, 1.2]\n",
        "B = A\n",
        "print('A:', A)\n",
        "print('B:', B)\n"
      ],
      "metadata": {
        "colab": {
          "base_uri": "https://localhost:8080/"
        },
        "id": "ZVPD96Y-6VkY",
        "outputId": "39768fc8-2136-43df-be52-dd941a2759b4"
      },
      "execution_count": 37,
      "outputs": [
        {
          "output_type": "stream",
          "name": "stdout",
          "text": [
            "the same element using negative and positive indexing:\n",
            " Postive: Michael Jackson \n",
            " Negative: 1982\n",
            "the same element using negative and positive indexing:\n",
            " Postive: 10.1 \n",
            " Negative: MJ\n",
            "the same element using negative and positive indexing:\n",
            " Postive: 1982 \n",
            " Negative: 1\n",
            "['MJ', 1]\n",
            "['Michael Jackson', 10.2, 'pop', 10]\n",
            "['Michael Jackson', 10.2, ['pop', 10]]\n",
            "Before change: ['disco', 10, 1.2]\n",
            "After change: ['hard rock', 10, 1.2]\n",
            "Before change: ['hard rock', 10, 1.2]\n",
            "After change: [10, 1.2]\n",
            "A: ['hard rock', 10, 1.2]\n",
            "B: ['hard rock', 10, 1.2]\n"
          ]
        }
      ]
    },
    {
      "cell_type": "code",
      "source": [
        "#Quiz on Lists\n",
        "\n",
        "#Create a list a_list, with the following elements 1, hello, [1,2,3] and True\n",
        "a_list = [1, 'hello', [1, 2, 3] , True]\n",
        "print(a_list)\n",
        "\n",
        "#Find the value stored at index 1 of a_list\n",
        "print(a_list[1])\n",
        "\n",
        "#Retrieve the elements stored at index 1, 2 and 3 of a_list\n",
        "print(a_list[1:4])\n",
        "\n",
        "#Concatenate the following lists A = [1, 'a'] and B = [2, 1, 'd']\n",
        "A = [1, 'a']\n",
        "B = [2, 1, 'd']\n",
        "print(A+B)"
      ],
      "metadata": {
        "colab": {
          "base_uri": "https://localhost:8080/"
        },
        "id": "kiFm24HFAkZR",
        "outputId": "f0a0f939-ca78-4a77-cc03-a62437a946f9"
      },
      "execution_count": 38,
      "outputs": [
        {
          "output_type": "stream",
          "name": "stdout",
          "text": [
            "[1, 'hello', [1, 2, 3], True]\n",
            "hello\n",
            "['hello', [1, 2, 3], True]\n",
            "[1, 'a', 2, 1, 'd']\n"
          ]
        }
      ]
    },
    {
      "cell_type": "markdown",
      "source": [
        "Lab - Sets"
      ],
      "metadata": {
        "id": "Dy2rd8IBO-Nf"
      }
    },
    {
      "cell_type": "code",
      "source": [
        "#Practice with Sets\n",
        "set(['A','B','C','A','B','C'])\n",
        "\n",
        "S={'A','B','C'}\n",
        "S.add(\"D\")\n",
        "S\n",
        "\n",
        "A={1,2,3,4,5}\n",
        "B={1,3,9, 12}\n",
        "A&B\n",
        "A.intersection(B)"
      ],
      "metadata": {
        "colab": {
          "base_uri": "https://localhost:8080/"
        },
        "id": "ppN6L59RPA4w",
        "outputId": "9bf4d986-b1b7-434d-a611-2f97c082af81"
      },
      "execution_count": 39,
      "outputs": [
        {
          "output_type": "execute_result",
          "data": {
            "text/plain": [
              "{1, 3}"
            ]
          },
          "metadata": {},
          "execution_count": 39
        }
      ]
    },
    {
      "cell_type": "code",
      "source": [
        "#Lab Part 1\n",
        "\n",
        "# Create a set\n",
        "set1 = {\"pop\", \"rock\", \"soul\", \"hard rock\", \"rock\", \"R&B\", \"rock\", \"disco\"}\n",
        "set1\n",
        "\n",
        "# Convert list to set\n",
        "album_list = [ \"Michael Jackson\", \"Thriller\", 1982, \"00:42:19\", \\\n",
        "              \"Pop, Rock, R&B\", 46.0, 65, \"30-Nov-82\", None, 10.0]\n",
        "album_set = set(album_list)             \n",
        "album_set\n",
        "\n",
        "# Convert list to set\n",
        "music_genres = set([\"pop\", \"pop\", \"rock\", \"folk rock\", \"hard rock\", \"soul\", \\\n",
        "                    \"progressive rock\", \"soft rock\", \"R&B\", \"disco\"])\n",
        "music_genres\n",
        "\n",
        "# Sample set\n",
        "A = set([\"Thriller\", \"Back in Black\", \"AC/DC\"])\n",
        "A\n",
        "\n",
        "# Add element to set\n",
        "A.add(\"NSYNC\")\n",
        "A\n",
        "\n",
        "# Try to add duplicate element to the set\n",
        "A.add(\"NSYNC\")\n",
        "A\n",
        "\n",
        "# Remove the element from set\n",
        "A.remove(\"NSYNC\")\n",
        "A\n",
        "\n",
        "# Verify if the element is in the set\n",
        "\"AC/DC\" in A\n",
        "\n",
        "# Sample Sets\n",
        "album_set1 = set([\"Thriller\", 'AC/DC', 'Back in Black'])\n",
        "album_set2 = set([ \"AC/DC\", \"Back in Black\", \"The Dark Side of the Moon\"])\n",
        "\n",
        "# Print two sets\n",
        "album_set1, album_set2\n",
        "\n",
        "# Find the intersections\n",
        "intersection = album_set1 & album_set2\n",
        "intersection\n",
        "\n",
        "# Find the difference in set1 but not set2\n",
        "album_set1.difference(album_set2) \n",
        "album_set2.difference(album_set1) \n",
        "\n",
        "# Use intersection method to find the intersection of album_list1 and album_list2\n",
        "album_set1.intersection(album_set2)   \n",
        "\n",
        "# Find the union of two sets\n",
        "album_set1.union(album_set2)\n",
        "\n",
        "# Check if superset\n",
        "set(album_set1).issuperset(album_set2) \n",
        "\n",
        "# Check if subset\n",
        "set(album_set2).issubset(album_set1)   \n",
        "\n",
        "# Check if subset\n",
        "set({\"Back in Black\", \"AC/DC\"}).issubset(album_set1) \n",
        "\n",
        "# Check if superset\n",
        "album_set1.issuperset({\"Back in Black\", \"AC/DC\"})  "
      ],
      "metadata": {
        "colab": {
          "base_uri": "https://localhost:8080/"
        },
        "id": "7aZHRteEI-nC",
        "outputId": "46b32d77-dba2-4f07-e809-2c10d1c9510a"
      },
      "execution_count": 40,
      "outputs": [
        {
          "output_type": "execute_result",
          "data": {
            "text/plain": [
              "True"
            ]
          },
          "metadata": {},
          "execution_count": 40
        }
      ]
    },
    {
      "cell_type": "code",
      "source": [
        "#Quiz on Sets\n",
        "\n",
        "#Convert the list ['rap','house','electronic music', 'rap'] to a set:\n",
        "set(['rap','house','electronic music', 'rap'])\n",
        "\n",
        "#Consider the list A = [1, 2, 2, 1] and set B = set([1, 2, 2, 1]), does sum(A) == sum(B)\n",
        "A = [1, 2, 2, 1]\n",
        "B = set([1, 2, 2, 1])\n",
        "print(\"the sum of A is:\", sum(A))\n",
        "print(\"the sum of B is:\", sum(B))\n",
        "\n",
        "#Create a new set album_set3 that is the union of album_set1 and album_set2:\n",
        "album_set1 = set([\"Thriller\", 'AC/DC', 'Back in Black'])\n",
        "album_set2 = set([ \"AC/DC\", \"Back in Black\", \"The Dark Side of the Moon\"])\n",
        "\n",
        "album_set3 = album_set1.union(album_set2)\n",
        "print(album_set3)\n",
        "\n",
        "#Find out if album_set1 is a subset of album_set3:\n",
        "album_set1.issubset(album_set3)  \n"
      ],
      "metadata": {
        "colab": {
          "base_uri": "https://localhost:8080/"
        },
        "id": "3I6fLU7UMAys",
        "outputId": "7012b29c-96be-465c-cb87-c358beb1fa46"
      },
      "execution_count": 41,
      "outputs": [
        {
          "output_type": "stream",
          "name": "stdout",
          "text": [
            "the sum of A is: 6\n",
            "the sum of B is: 3\n",
            "{'The Dark Side of the Moon', 'AC/DC', 'Back in Black', 'Thriller'}\n"
          ]
        },
        {
          "output_type": "execute_result",
          "data": {
            "text/plain": [
              "True"
            ]
          },
          "metadata": {},
          "execution_count": 41
        }
      ]
    },
    {
      "cell_type": "code",
      "source": [
        "S={'A','B','C'}\n",
        "\n",
        "U={'A','Z','C'}\n",
        "\n",
        "U.union(S)"
      ],
      "metadata": {
        "colab": {
          "base_uri": "https://localhost:8080/"
        },
        "id": "SmBGuDulOLkp",
        "outputId": "be71f2b0-0b8b-49df-e43d-c4bb9af52fff"
      },
      "execution_count": 42,
      "outputs": [
        {
          "output_type": "execute_result",
          "data": {
            "text/plain": [
              "{'A', 'B', 'C', 'Z'}"
            ]
          },
          "metadata": {},
          "execution_count": 42
        }
      ]
    },
    {
      "cell_type": "markdown",
      "source": [
        "Lab - Dictionaries"
      ],
      "metadata": {
        "id": "S9fH4ULCPBSD"
      }
    },
    {
      "cell_type": "code",
      "source": [
        "#Exercises\n",
        "D={'a':0,'b':1,'c':2}\n",
        "D[\"a\"]\n",
        "\n",
        "D.keys()"
      ],
      "metadata": {
        "id": "M74WhAcSPDYK",
        "colab": {
          "base_uri": "https://localhost:8080/"
        },
        "outputId": "79022722-17de-48b2-d580-546feaa8e061"
      },
      "execution_count": 43,
      "outputs": [
        {
          "output_type": "execute_result",
          "data": {
            "text/plain": [
              "dict_keys(['a', 'b', 'c'])"
            ]
          },
          "metadata": {},
          "execution_count": 43
        }
      ]
    },
    {
      "cell_type": "code",
      "source": [
        "#Lab Exercises\n",
        "\n",
        "# Create the dictionary\n",
        "Dict = {\"key1\": 1, \"key2\": \"2\", \"key3\": [3, 3, 3], \"key4\": (4, 4, 4), ('key5'): 5, (0, 1): 6}\n",
        "Dict\n",
        "\n",
        "# Access to the value by the key\n",
        "Dict[\"key1\"]\n",
        "\n",
        "# Access to the value by the key\n",
        "Dict[(0, 1)]\n",
        "\n",
        "# Create a sample dictionary\n",
        "release_year_dict = {\"Thriller\": \"1982\", \"Back in Black\": \"1980\", \\\n",
        "                    \"The Dark Side of the Moon\": \"1973\", \"The Bodyguard\": \"1992\", \\\n",
        "                    \"Bat Out of Hell\": \"1977\", \"Their Greatest Hits (1971-1975)\": \"1976\", \\\n",
        "                    \"Saturday Night Fever\": \"1977\", \"Rumours\": \"1977\"}\n",
        "release_year_dict\n",
        "\n",
        "# Get value by keys\n",
        "release_year_dict['Thriller']\n",
        "\n",
        "# Get value by key\n",
        "release_year_dict['The Bodyguard'] \n",
        "\n",
        "# Get all the keys in dictionary\n",
        "release_year_dict.keys()\n",
        "\n",
        "# Get all the values in dictionary\n",
        "release_year_dict.values() \n",
        "\n",
        "# Append value with key into dictionary\n",
        "release_year_dict['Graduation'] = '2007'\n",
        "release_year_dict\n",
        "\n",
        "# Delete entries by key\n",
        "del(release_year_dict['Thriller'])\n",
        "del(release_year_dict['Graduation'])\n",
        "release_year_dict\n",
        "\n",
        "# Verify the key is in the dictionary\n",
        "'The Bodyguard' in release_year_dict"
      ],
      "metadata": {
        "id": "oIRR_BBub6nG",
        "colab": {
          "base_uri": "https://localhost:8080/"
        },
        "outputId": "a5799469-3a06-4e3b-e4db-f82ab3a63c92"
      },
      "execution_count": 44,
      "outputs": [
        {
          "output_type": "execute_result",
          "data": {
            "text/plain": [
              "True"
            ]
          },
          "metadata": {},
          "execution_count": 44
        }
      ]
    },
    {
      "cell_type": "code",
      "source": [
        "#Quiz A\n",
        "\n",
        "# Question sample dictionary\n",
        "soundtrack_dic = {\"The Bodyguard\":\"1992\", \"Saturday Night Fever\":\"1977\"}\n",
        "soundtrack_dic \n",
        "\n",
        "# a) In the dictionary soundtrack_dic what are the keys ?\n",
        "soundtrack_dic.keys() # The Keys \"The Bodyguard\" and \"Saturday Night Fever\" \n",
        "\n",
        "# b) In the dictionary soundtrack_dic what are the values ?\n",
        "soundtrack_dic.values() # The values are \"1992\" and \"1977\"\n"
      ],
      "metadata": {
        "id": "6Djw4NOOcWe5",
        "colab": {
          "base_uri": "https://localhost:8080/"
        },
        "outputId": "db965250-821e-4216-96b8-4941f1fb07a5"
      },
      "execution_count": 45,
      "outputs": [
        {
          "output_type": "execute_result",
          "data": {
            "text/plain": [
              "dict_values(['1992', '1977'])"
            ]
          },
          "metadata": {},
          "execution_count": 45
        }
      ]
    },
    {
      "cell_type": "code",
      "source": [
        "#Quiz B\n",
        "\n",
        "# a) Create a dictionary album_sales_dict where the keys are the album name and the sales in millions are the values.\n",
        "album_sales_dict = {\"The Bodyguard\":50, \"Back in Black\":50, \"Thriller\":65}\n",
        "\n",
        "# b) Use the dictionary to find the total sales of Thriller:\n",
        "album_sales_dict[\"Thriller\"]\n",
        "\n",
        "# c) Find the names of the albums from the dictionary using the method keys():\n",
        "album_sales_dict.keys()\n",
        "\n",
        "# d) Find the values of the recording sales from the dictionary using the method values:\n",
        "album_sales_dict.values()\n",
        "\n"
      ],
      "metadata": {
        "id": "VVajREBQcoUR",
        "colab": {
          "base_uri": "https://localhost:8080/"
        },
        "outputId": "3d3aebed-435e-4be9-9d9c-762c50a27936"
      },
      "execution_count": 46,
      "outputs": [
        {
          "output_type": "execute_result",
          "data": {
            "text/plain": [
              "dict_values([50, 50, 65])"
            ]
          },
          "metadata": {},
          "execution_count": 46
        }
      ]
    },
    {
      "cell_type": "markdown",
      "source": [
        "Review Questions"
      ],
      "metadata": {
        "id": "b2Ed_GEJPDoZ"
      }
    },
    {
      "cell_type": "code",
      "source": [],
      "metadata": {
        "id": "ZQcxcuU6PFI4"
      },
      "execution_count": 46,
      "outputs": []
    },
    {
      "cell_type": "markdown",
      "source": [],
      "metadata": {
        "id": "kr8fiPcVPFmf"
      }
    },
    {
      "cell_type": "markdown",
      "source": [
        "# Module 3 - Python Programming Fundamentals"
      ],
      "metadata": {
        "id": "np-ZYSrrdwI6"
      }
    },
    {
      "cell_type": "markdown",
      "source": [
        "Lab - Conditions and Branching"
      ],
      "metadata": {
        "id": "5WjdNOAidV_h"
      }
    },
    {
      "cell_type": "code",
      "source": [
        "# Condition Equal\n",
        "a = 5\n",
        "a == 6\n",
        "\n",
        "# Greater than Sign\n",
        "i = 6\n",
        "i > 5\n",
        "\n",
        "# Greater than Sign\n",
        "i = 2\n",
        "i > 5\n",
        "\n",
        "# Inequality Sign\n",
        "i = 2\n",
        "i != 6\n",
        "\n",
        "# Inequality Sign\n",
        "i = 6\n",
        "i != 6\n",
        "\n",
        "# Use Equality sign to compare the strings\n",
        "\"ACDC\" == \"Michael Jackson\"\n",
        "\n",
        "# Use Inequality sign to compare the strings\n",
        "\"ACDC\" != \"Michael Jackson\"\n",
        "\n",
        "# Compare characters\n",
        "'B' > 'A'\n",
        "\n",
        "# Compare characters\n",
        "'BA' > 'AB'"
      ],
      "metadata": {
        "id": "UZKFR7NMdbUi",
        "colab": {
          "base_uri": "https://localhost:8080/"
        },
        "outputId": "a5d7a38b-aaac-41dc-d630-5e40e6ec1c21"
      },
      "execution_count": 47,
      "outputs": [
        {
          "output_type": "execute_result",
          "data": {
            "text/plain": [
              "True"
            ]
          },
          "metadata": {},
          "execution_count": 47
        }
      ]
    },
    {
      "cell_type": "code",
      "source": [
        "#Branching\n",
        "\n",
        "# If statement example\n",
        "age = 19\n",
        "#age = 18\n",
        "\n",
        "#expression that can be true or false\n",
        "if age > 18:\n",
        "    \n",
        "    #within an indent, we have the expression that is run if the condition is true\n",
        "    print(\"you can enter\" )\n",
        "\n",
        "#The statements after the if statement will run regardless if the condition is true or false \n",
        "print(\"move on\")\n",
        "\n",
        "# Else statement example\n",
        "age = 18\n",
        "# age = 19\n",
        "\n",
        "if age > 18:\n",
        "    print(\"you can enter\" )\n",
        "else:\n",
        "    print(\"go see Meat Loaf\" )\n",
        "    \n",
        "print(\"move on\")\n",
        "\n",
        "# Elif statment example\n",
        "age = 18\n",
        "\n",
        "if age > 18:\n",
        "    print(\"you can enter\" )\n",
        "elif age == 18:\n",
        "    print(\"go see Pink Floyd\")\n",
        "else:\n",
        "    print(\"go see Meat Loaf\" )\n",
        "    \n",
        "print(\"move on\")\n",
        "\n",
        "# Condition statement example\n",
        "album_year = 1983\n",
        "album_year = 1970\n",
        "\n",
        "if album_year > 1980:\n",
        "    print(\"Album year is greater than 1980\")\n",
        "    \n",
        "print('do something..')\n",
        "\n",
        "# Condition statement example\n",
        "album_year = 1983\n",
        "#album_year = 1970\n",
        "\n",
        "if album_year > 1980:\n",
        "    print(\"Album year is greater than 1980\")\n",
        "else:\n",
        "    print(\"less than 1980\")\n",
        "\n",
        "print('do something..')"
      ],
      "metadata": {
        "colab": {
          "base_uri": "https://localhost:8080/"
        },
        "id": "CQyEcRtLkZ8L",
        "outputId": "1c8a2deb-916c-4e94-8eb3-c36fa15210bc"
      },
      "execution_count": 48,
      "outputs": [
        {
          "output_type": "stream",
          "name": "stdout",
          "text": [
            "you can enter\n",
            "move on\n",
            "go see Meat Loaf\n",
            "move on\n",
            "go see Pink Floyd\n",
            "move on\n",
            "do something..\n",
            "Album year is greater than 1980\n",
            "do something..\n"
          ]
        }
      ]
    },
    {
      "cell_type": "code",
      "source": [
        "#Logical Operators\n",
        "\n",
        "# Condition statement example\n",
        "album_year = 1980\n",
        "\n",
        "if(album_year > 1979) and (album_year < 1990):\n",
        "    print (\"Album year was in between 1980 and 1989\")\n",
        "    \n",
        "print(\"\")\n",
        "print(\"Do Stuff..\")\n",
        "\n",
        "# Condition statement example\n",
        "album_year = 1990\n",
        "\n",
        "if(album_year < 1980) or (album_year > 1989):\n",
        "    print (\"Album was not made in the 1980's\")\n",
        "else:\n",
        "    print(\"The Album was made in the 1980's \")\n",
        "\n",
        "# Condition statement example\n",
        "album_year = 1983\n",
        "\n",
        "if not (album_year == 1984):\n",
        "    print (\"Album year is not 1984\")"
      ],
      "metadata": {
        "colab": {
          "base_uri": "https://localhost:8080/"
        },
        "id": "Wkv4UYUOkq_X",
        "outputId": "f217cb80-ae59-486a-8b20-1dc5d6901a04"
      },
      "execution_count": 49,
      "outputs": [
        {
          "output_type": "stream",
          "name": "stdout",
          "text": [
            "Album year was in between 1980 and 1989\n",
            "\n",
            "Do Stuff..\n",
            "Album was not made in the 1980's\n",
            "Album year is not 1984\n"
          ]
        }
      ]
    },
    {
      "cell_type": "markdown",
      "source": [
        "Lab - Loops"
      ],
      "metadata": {
        "id": "rR_jPtcSdbq-"
      }
    },
    {
      "cell_type": "code",
      "source": [
        "# Use the range\n",
        "range(3)\n",
        "\n",
        "# For loop example\n",
        "dates = [1982,1980,1973]\n",
        "N = len(dates)\n",
        "\n",
        "for i in range(N):\n",
        "    print(dates[i])\n",
        "\n",
        "# Example of for loop\n",
        "for i in range(0, 8):\n",
        "    print(i) \n",
        "\n",
        "# Exmaple of for loop, loop through list\n",
        "for year in dates:  \n",
        "    print(year)   \n",
        "\n",
        "# Use for loop to change the elements in list\n",
        "squares = ['red', 'yellow', 'green', 'purple', 'blue']\n",
        "\n",
        "for i in range(0, 5):\n",
        "    print(\"Before square \", i, 'is',  squares[i])\n",
        "    squares[i] = 'white'\n",
        "    print(\"After square \", i, 'is',  squares[i])\n",
        "\n",
        "# Loop through the list and iterate on both index and element value\n",
        "squares=['red', 'yellow', 'green', 'purple', 'blue']\n",
        "\n",
        "for i, square in enumerate(squares):\n",
        "    print(i, square)"
      ],
      "metadata": {
        "id": "Ii71yP27dese",
        "colab": {
          "base_uri": "https://localhost:8080/"
        },
        "outputId": "e98adcf5-6c3c-4a79-f8bb-88021607a3be"
      },
      "execution_count": 50,
      "outputs": [
        {
          "output_type": "stream",
          "name": "stdout",
          "text": [
            "1982\n",
            "1980\n",
            "1973\n",
            "0\n",
            "1\n",
            "2\n",
            "3\n",
            "4\n",
            "5\n",
            "6\n",
            "7\n",
            "1982\n",
            "1980\n",
            "1973\n",
            "Before square  0 is red\n",
            "After square  0 is white\n",
            "Before square  1 is yellow\n",
            "After square  1 is white\n",
            "Before square  2 is green\n",
            "After square  2 is white\n",
            "Before square  3 is purple\n",
            "After square  3 is white\n",
            "Before square  4 is blue\n",
            "After square  4 is white\n",
            "0 red\n",
            "1 yellow\n",
            "2 green\n",
            "3 purple\n",
            "4 blue\n"
          ]
        }
      ]
    },
    {
      "cell_type": "code",
      "source": [
        "# While Loop Example\n",
        "dates = [1982, 1980, 1973, 2000]\n",
        "\n",
        "i = 0\n",
        "year = dates[0]\n",
        "\n",
        "while(year != 1973):    \n",
        "    print(year)\n",
        "    i = i + 1\n",
        "    year = dates[i]\n",
        "    \n",
        "\n",
        "print(\"It took \", i ,\"repetitions to get out of loop.\")"
      ],
      "metadata": {
        "colab": {
          "base_uri": "https://localhost:8080/"
        },
        "id": "GuMHQ0emlkql",
        "outputId": "83db1ae2-ced0-48bb-fb36-a8ce797b3fcb"
      },
      "execution_count": 51,
      "outputs": [
        {
          "output_type": "stream",
          "name": "stdout",
          "text": [
            "1982\n",
            "1980\n",
            "It took  2 repetitions to get out of loop.\n"
          ]
        }
      ]
    },
    {
      "cell_type": "markdown",
      "source": [
        "Lab - Functions"
      ],
      "metadata": {
        "id": "1OgrtH4YdfRq"
      }
    },
    {
      "cell_type": "code",
      "source": [
        "# First function example: Add 1 to a and store as b\n",
        "\n",
        "def add(a):\n",
        "    \"\"\"\n",
        "    add 1 to a\n",
        "    \"\"\"\n",
        "    b = a + 1\n",
        "    print(a, \"if you add one\", b)\n",
        "    return(b)\n",
        "\n",
        "# Get a help on add function\n",
        "help(add)\n",
        "\n",
        "# Call the function add()\n",
        "add(1)\n",
        "\n",
        "# Call the function add()\n",
        "add(2)\n",
        "\n",
        "# Define a function for multiple two numbers\n",
        "def Mult(a, b):\n",
        "    c = a * b\n",
        "    return(c)\n",
        "    print('This is not printed')\n",
        "    \n",
        "result = Mult(12,2)\n",
        "print(result)\n",
        "\n",
        "# Use mult() multiply two integers\n",
        "Mult(2, 3)\n",
        "\n",
        "# Use mult() multiply two floats\n",
        "Mult(10.0, 3.14)\n",
        "\n",
        "# Use mult() multiply two floats\n",
        "Mult(10.0, 3.14)\n"
      ],
      "metadata": {
        "id": "nhxHkmdgdhBQ",
        "colab": {
          "base_uri": "https://localhost:8080/"
        },
        "outputId": "e7f896f5-46ea-4c7e-acc3-6214c33461d4"
      },
      "execution_count": 52,
      "outputs": [
        {
          "output_type": "stream",
          "name": "stdout",
          "text": [
            "Help on function add in module __main__:\n",
            "\n",
            "add(a)\n",
            "    add 1 to a\n",
            "\n",
            "1 if you add one 2\n",
            "2 if you add one 3\n",
            "24\n"
          ]
        },
        {
          "output_type": "execute_result",
          "data": {
            "text/plain": [
              "31.400000000000002"
            ]
          },
          "metadata": {},
          "execution_count": 52
        }
      ]
    },
    {
      "cell_type": "code",
      "source": [
        "#Variables\n",
        "\n",
        "# Function Definition\n",
        "\n",
        "def square(a):\n",
        "    \n",
        "    # Local variable b\n",
        "    b = 1\n",
        "    c = a * a + b\n",
        "    print(a, \"if you square + 1\", c) \n",
        "    return(c)"
      ],
      "metadata": {
        "id": "89RKoL0smRqN"
      },
      "execution_count": 53,
      "outputs": []
    },
    {
      "cell_type": "code",
      "source": [
        "# Initializes Global variable  \n",
        "\n",
        "x = 3\n",
        "# Makes function call and return function a y\n",
        "y = square(x)\n",
        "y"
      ],
      "metadata": {
        "colab": {
          "base_uri": "https://localhost:8080/"
        },
        "id": "u54VNJn2mWlo",
        "outputId": "99e41c12-4ffd-4ddb-c273-c73242fef6b0"
      },
      "execution_count": 54,
      "outputs": [
        {
          "output_type": "stream",
          "name": "stdout",
          "text": [
            "3 if you square + 1 10\n"
          ]
        },
        {
          "output_type": "execute_result",
          "data": {
            "text/plain": [
              "10"
            ]
          },
          "metadata": {},
          "execution_count": 54
        }
      ]
    },
    {
      "cell_type": "code",
      "source": [
        "# Directly enter a number as parameter\n",
        "\n",
        "square(2)"
      ],
      "metadata": {
        "colab": {
          "base_uri": "https://localhost:8080/"
        },
        "id": "Jkzs4addmZZp",
        "outputId": "531d4cc3-d25b-4c01-afa6-5d75c5830a3c"
      },
      "execution_count": 55,
      "outputs": [
        {
          "output_type": "stream",
          "name": "stdout",
          "text": [
            "2 if you square + 1 5\n"
          ]
        },
        {
          "output_type": "execute_result",
          "data": {
            "text/plain": [
              "5"
            ]
          },
          "metadata": {},
          "execution_count": 55
        }
      ]
    },
    {
      "cell_type": "code",
      "source": [
        "# Define functions, one with return value None and other without return value\n",
        "\n",
        "def MJ():\n",
        "    print('Michael Jackson')\n",
        "    \n",
        "def MJ1():\n",
        "    print('Michael Jackson')\n",
        "    return(None)"
      ],
      "metadata": {
        "id": "q9SxuzlKmbeW"
      },
      "execution_count": 56,
      "outputs": []
    },
    {
      "cell_type": "code",
      "source": [
        "# See the output\n",
        "MJ()"
      ],
      "metadata": {
        "colab": {
          "base_uri": "https://localhost:8080/"
        },
        "id": "O-UJnPesmdvb",
        "outputId": "a14af404-84dd-4539-bd01-4f0102c45329"
      },
      "execution_count": 57,
      "outputs": [
        {
          "output_type": "stream",
          "name": "stdout",
          "text": [
            "Michael Jackson\n"
          ]
        }
      ]
    },
    {
      "cell_type": "code",
      "source": [
        "# See the output\n",
        "MJ1()"
      ],
      "metadata": {
        "colab": {
          "base_uri": "https://localhost:8080/"
        },
        "id": "BiRXrQymmqOa",
        "outputId": "244efa32-38e8-47c9-fae8-82cac986ef0d"
      },
      "execution_count": 58,
      "outputs": [
        {
          "output_type": "stream",
          "name": "stdout",
          "text": [
            "Michael Jackson\n"
          ]
        }
      ]
    },
    {
      "cell_type": "code",
      "source": [
        "# See what functions returns are\n",
        "print(MJ())\n",
        "print(MJ1())"
      ],
      "metadata": {
        "colab": {
          "base_uri": "https://localhost:8080/"
        },
        "id": "6qL2FIPdmuV5",
        "outputId": "dbd23e26-ea00-4675-fb56-0efd45642da2"
      },
      "execution_count": 59,
      "outputs": [
        {
          "output_type": "stream",
          "name": "stdout",
          "text": [
            "Michael Jackson\n",
            "None\n",
            "Michael Jackson\n",
            "None\n"
          ]
        }
      ]
    },
    {
      "cell_type": "code",
      "source": [
        "# Define the function for combining strings\n",
        "def con(a, b):\n",
        "    return(a + b)"
      ],
      "metadata": {
        "id": "QGUL1n90mxR-"
      },
      "execution_count": 60,
      "outputs": []
    },
    {
      "cell_type": "code",
      "source": [
        "# Test on the con() function\n",
        "con(\"This \", \"is\")"
      ],
      "metadata": {
        "colab": {
          "base_uri": "https://localhost:8080/",
          "height": 36
        },
        "id": "LLUrkh0zm0lL",
        "outputId": "e6c901df-1d31-4537-be7d-5a52a0cced30"
      },
      "execution_count": 61,
      "outputs": [
        {
          "output_type": "execute_result",
          "data": {
            "text/plain": [
              "'This is'"
            ],
            "application/vnd.google.colaboratory.intrinsic+json": {
              "type": "string"
            }
          },
          "metadata": {},
          "execution_count": 61
        }
      ]
    },
    {
      "cell_type": "markdown",
      "source": [
        "Lab - Objects and Classes"
      ],
      "metadata": {
        "id": "RG4qHlfCdhj8"
      }
    },
    {
      "cell_type": "code",
      "source": [
        "#Creating Classes\n",
        "\n",
        "# Import the library\n",
        "\n",
        "import matplotlib.pyplot as plt\n",
        "%matplotlib inline  "
      ],
      "metadata": {
        "id": "48wYm_tHdjpB"
      },
      "execution_count": 65,
      "outputs": []
    },
    {
      "cell_type": "code",
      "source": [
        "# Create a class Circle\n",
        "\n",
        "class Circle(object):\n",
        "    \n",
        "    # Constructor\n",
        "    def __init__(self, radius=3, color='blue'):\n",
        "        self.radius = radius\n",
        "        self.color = color \n",
        "    \n",
        "    # Method\n",
        "    def add_radius(self, r):\n",
        "        self.radius = self.radius + r\n",
        "        return(self.radius)\n",
        "    \n",
        "    # Method\n",
        "    def drawCircle(self):\n",
        "        plt.gca().add_patch(plt.Circle((0, 0), radius=self.radius, fc=self.color))\n",
        "        plt.axis('scaled')\n",
        "        plt.show() "
      ],
      "metadata": {
        "id": "l9HYMnGxnfyi"
      },
      "execution_count": 64,
      "outputs": []
    },
    {
      "cell_type": "code",
      "source": [
        "# Create an object RedCircle\n",
        "\n",
        "RedCircle = Circle(10, 'red')"
      ],
      "metadata": {
        "id": "3P7OgsrtnpAT"
      },
      "execution_count": 66,
      "outputs": []
    },
    {
      "cell_type": "code",
      "source": [
        "# Find out the methods can be used on the object RedCircle\n",
        "\n",
        "dir(RedCircle)"
      ],
      "metadata": {
        "colab": {
          "base_uri": "https://localhost:8080/"
        },
        "id": "_jyhnRWGnrfs",
        "outputId": "3296a133-c49c-4ebb-baf1-41656b4b68ab"
      },
      "execution_count": 67,
      "outputs": [
        {
          "output_type": "execute_result",
          "data": {
            "text/plain": [
              "['__class__',\n",
              " '__delattr__',\n",
              " '__dict__',\n",
              " '__dir__',\n",
              " '__doc__',\n",
              " '__eq__',\n",
              " '__format__',\n",
              " '__ge__',\n",
              " '__getattribute__',\n",
              " '__gt__',\n",
              " '__hash__',\n",
              " '__init__',\n",
              " '__init_subclass__',\n",
              " '__le__',\n",
              " '__lt__',\n",
              " '__module__',\n",
              " '__ne__',\n",
              " '__new__',\n",
              " '__reduce__',\n",
              " '__reduce_ex__',\n",
              " '__repr__',\n",
              " '__setattr__',\n",
              " '__sizeof__',\n",
              " '__str__',\n",
              " '__subclasshook__',\n",
              " '__weakref__',\n",
              " 'add_radius',\n",
              " 'color',\n",
              " 'drawCircle',\n",
              " 'radius']"
            ]
          },
          "metadata": {},
          "execution_count": 67
        }
      ]
    },
    {
      "cell_type": "code",
      "source": [
        "# Print the object attribute radius\n",
        "\n",
        "RedCircle.radius"
      ],
      "metadata": {
        "colab": {
          "base_uri": "https://localhost:8080/"
        },
        "id": "65fpEW95nt5x",
        "outputId": "68688cb9-4338-4323-9c64-9a94e1054159"
      },
      "execution_count": 68,
      "outputs": [
        {
          "output_type": "execute_result",
          "data": {
            "text/plain": [
              "10"
            ]
          },
          "metadata": {},
          "execution_count": 68
        }
      ]
    },
    {
      "cell_type": "code",
      "source": [
        "# Print the object attribute color\n",
        "\n",
        "RedCircle.color"
      ],
      "metadata": {
        "colab": {
          "base_uri": "https://localhost:8080/",
          "height": 36
        },
        "id": "2p0Kic2InxID",
        "outputId": "3f473f71-1abe-4440-bd97-acd747ae8549"
      },
      "execution_count": 69,
      "outputs": [
        {
          "output_type": "execute_result",
          "data": {
            "text/plain": [
              "'red'"
            ],
            "application/vnd.google.colaboratory.intrinsic+json": {
              "type": "string"
            }
          },
          "metadata": {},
          "execution_count": 69
        }
      ]
    },
    {
      "cell_type": "code",
      "source": [
        "# Set the object attribute radius\n",
        "\n",
        "RedCircle.radius = 1\n",
        "RedCircle.radius"
      ],
      "metadata": {
        "colab": {
          "base_uri": "https://localhost:8080/"
        },
        "id": "fHqKwzLNnzR9",
        "outputId": "82d496c5-b705-4d71-e321-c8fb1d283d97"
      },
      "execution_count": 70,
      "outputs": [
        {
          "output_type": "execute_result",
          "data": {
            "text/plain": [
              "1"
            ]
          },
          "metadata": {},
          "execution_count": 70
        }
      ]
    },
    {
      "cell_type": "code",
      "source": [
        "# Call the method drawCircle\n",
        "\n",
        "RedCircle.drawCircle()"
      ],
      "metadata": {
        "colab": {
          "base_uri": "https://localhost:8080/",
          "height": 265
        },
        "id": "xZ3H4DpMn1ll",
        "outputId": "c332f3b2-c3d2-409e-9900-23f0f9a1da43"
      },
      "execution_count": 71,
      "outputs": [
        {
          "output_type": "display_data",
          "data": {
            "text/plain": [
              "<Figure size 432x288 with 1 Axes>"
            ],
            "image/png": "[encoded data removed]"
          },
          "metadata": {
            "needs_background": "light"
          }
        }
      ]
    },
    {
      "cell_type": "code",
      "source": [
        "# Use method to change the object attribute radius\n",
        "\n",
        "print('Radius of object:',RedCircle.radius)\n",
        "RedCircle.add_radius(2)\n",
        "print('Radius of object of after applying the method add_radius(2):',RedCircle.radius)\n",
        "RedCircle.add_radius(5)\n",
        "print('Radius of object of after applying the method add_radius(5):',RedCircle.radius)"
      ],
      "metadata": {
        "colab": {
          "base_uri": "https://localhost:8080/"
        },
        "id": "o65EV9aMn6lw",
        "outputId": "fac8afb3-daaa-4a31-a0e3-4fa03ed7d594"
      },
      "execution_count": 72,
      "outputs": [
        {
          "output_type": "stream",
          "name": "stdout",
          "text": [
            "Radius of object: 1\n",
            "Radius of object of after applying the method add_radius(2): 3\n",
            "Radius of object of after applying the method add_radius(5): 8\n"
          ]
        }
      ]
    },
    {
      "cell_type": "code",
      "source": [
        "# Create a blue circle with a given radius\n",
        "\n",
        "BlueCircle = Circle(radius=100)"
      ],
      "metadata": {
        "id": "d48P7nPBn-TQ"
      },
      "execution_count": 73,
      "outputs": []
    },
    {
      "cell_type": "code",
      "source": [
        "# Print the object attribute radius\n",
        "\n",
        "BlueCircle.radius"
      ],
      "metadata": {
        "colab": {
          "base_uri": "https://localhost:8080/"
        },
        "id": "xSbwgizzoAZB",
        "outputId": "20a32f49-7042-4ab9-ac79-ae1a634c2e17"
      },
      "execution_count": 74,
      "outputs": [
        {
          "output_type": "execute_result",
          "data": {
            "text/plain": [
              "100"
            ]
          },
          "metadata": {},
          "execution_count": 74
        }
      ]
    },
    {
      "cell_type": "code",
      "source": [
        "# Print the object attribute color\n",
        "\n",
        "BlueCircle.color"
      ],
      "metadata": {
        "colab": {
          "base_uri": "https://localhost:8080/",
          "height": 36
        },
        "id": "fkbSogELoC4s",
        "outputId": "db7658a4-5efb-49b8-c6f5-e7fcf49c454e"
      },
      "execution_count": 75,
      "outputs": [
        {
          "output_type": "execute_result",
          "data": {
            "text/plain": [
              "'blue'"
            ],
            "application/vnd.google.colaboratory.intrinsic+json": {
              "type": "string"
            }
          },
          "metadata": {},
          "execution_count": 75
        }
      ]
    },
    {
      "cell_type": "code",
      "source": [
        "# Call the method drawCircle\n",
        "\n",
        "BlueCircle.drawCircle()"
      ],
      "metadata": {
        "colab": {
          "base_uri": "https://localhost:8080/",
          "height": 265
        },
        "id": "Xhd7O5VpoIX7",
        "outputId": "efdde527-3ef6-4af7-f7c4-9fb8b8300c82"
      },
      "execution_count": 76,
      "outputs": [
        {
          "output_type": "display_data",
          "data": {
            "text/plain": [
              "<Figure size 432x288 with 1 Axes>"
            ],
            "image/png": "[encoded data removed]"
          },
          "metadata": {
            "needs_background": "light"
          }
        }
      ]
    },
    {
      "cell_type": "code",
      "source": [
        "# Create a new Rectangle class for creating a rectangle object\n",
        "\n",
        "class Rectangle(object):\n",
        "    \n",
        "    # Constructor\n",
        "    def __init__(self, width=2, height=3, color='r'):\n",
        "        self.height = height \n",
        "        self.width = width\n",
        "        self.color = color\n",
        "    \n",
        "    # Method\n",
        "    def drawRectangle(self):\n",
        "        plt.gca().add_patch(plt.Rectangle((0, 0), self.width, self.height ,fc=self.color))\n",
        "        plt.axis('scaled')\n",
        "        plt.show()"
      ],
      "metadata": {
        "id": "iQcVny8foPAf"
      },
      "execution_count": 77,
      "outputs": []
    },
    {
      "cell_type": "code",
      "source": [
        "# Create a new object rectangle\n",
        "\n",
        "SkinnyBlueRectangle = Rectangle(2, 3, 'blue')"
      ],
      "metadata": {
        "id": "ypTRZJA6oSCK"
      },
      "execution_count": 78,
      "outputs": []
    },
    {
      "cell_type": "code",
      "source": [
        "# Print the object attribute height\n",
        "\n",
        "SkinnyBlueRectangle.height "
      ],
      "metadata": {
        "colab": {
          "base_uri": "https://localhost:8080/"
        },
        "id": "iJHLn0ipohnk",
        "outputId": "16b8a74c-bda8-4d6a-98a0-fb7725435def"
      },
      "execution_count": 79,
      "outputs": [
        {
          "output_type": "execute_result",
          "data": {
            "text/plain": [
              "3"
            ]
          },
          "metadata": {},
          "execution_count": 79
        }
      ]
    },
    {
      "cell_type": "code",
      "source": [
        "# Print the object attribute width\n",
        "\n",
        "SkinnyBlueRectangle.width"
      ],
      "metadata": {
        "colab": {
          "base_uri": "https://localhost:8080/"
        },
        "id": "dJLmHwoNoken",
        "outputId": "a748d693-3a77-4dff-9f67-1385adf759c2"
      },
      "execution_count": 80,
      "outputs": [
        {
          "output_type": "execute_result",
          "data": {
            "text/plain": [
              "2"
            ]
          },
          "metadata": {},
          "execution_count": 80
        }
      ]
    },
    {
      "cell_type": "code",
      "source": [
        "# Print the object attribute color\n",
        "\n",
        "SkinnyBlueRectangle.color"
      ],
      "metadata": {
        "colab": {
          "base_uri": "https://localhost:8080/",
          "height": 36
        },
        "id": "j6_QvF4Son_K",
        "outputId": "a378fbf1-155e-440e-bc06-fa8a3496fa65"
      },
      "execution_count": 81,
      "outputs": [
        {
          "output_type": "execute_result",
          "data": {
            "text/plain": [
              "'blue'"
            ],
            "application/vnd.google.colaboratory.intrinsic+json": {
              "type": "string"
            }
          },
          "metadata": {},
          "execution_count": 81
        }
      ]
    },
    {
      "cell_type": "code",
      "source": [
        "# Use the drawRectangle method to draw the shape\n",
        "\n",
        "SkinnyBlueRectangle.drawRectangle()"
      ],
      "metadata": {
        "colab": {
          "base_uri": "https://localhost:8080/",
          "height": 265
        },
        "id": "ZybAYCTQosd2",
        "outputId": "09ac8f08-f649-4955-bf1a-dcb4eb06f10c"
      },
      "execution_count": 82,
      "outputs": [
        {
          "output_type": "display_data",
          "data": {
            "text/plain": [
              "<Figure size 432x288 with 1 Axes>"
            ],
            "image/png": "[encoded data removed]"
          },
          "metadata": {
            "needs_background": "light"
          }
        }
      ]
    },
    {
      "cell_type": "code",
      "source": [
        "# Create a new object rectangle\n",
        "\n",
        "FatYellowRectangle = Rectangle(20, 5, 'yellow')"
      ],
      "metadata": {
        "id": "rUDmVtg5oyeK"
      },
      "execution_count": 83,
      "outputs": []
    },
    {
      "cell_type": "code",
      "source": [
        "# Print the object attribute height\n",
        "\n",
        "FatYellowRectangle.height"
      ],
      "metadata": {
        "colab": {
          "base_uri": "https://localhost:8080/"
        },
        "id": "wKhVo6wOo1KI",
        "outputId": "1e63075d-2521-435e-9907-bcd88bb5dca5"
      },
      "execution_count": 84,
      "outputs": [
        {
          "output_type": "execute_result",
          "data": {
            "text/plain": [
              "5"
            ]
          },
          "metadata": {},
          "execution_count": 84
        }
      ]
    },
    {
      "cell_type": "code",
      "source": [
        "# Print the object attribute width\n",
        "\n",
        "FatYellowRectangle.width"
      ],
      "metadata": {
        "colab": {
          "base_uri": "https://localhost:8080/"
        },
        "id": "0XDsOV2ao593",
        "outputId": "4b37c462-2602-4342-e0e7-4de35c8d07e2"
      },
      "execution_count": 85,
      "outputs": [
        {
          "output_type": "execute_result",
          "data": {
            "text/plain": [
              "20"
            ]
          },
          "metadata": {},
          "execution_count": 85
        }
      ]
    },
    {
      "cell_type": "code",
      "source": [
        "# Print the object attribute color\n",
        "\n",
        "FatYellowRectangle.color"
      ],
      "metadata": {
        "colab": {
          "base_uri": "https://localhost:8080/",
          "height": 36
        },
        "id": "YSRRIjfMo72D",
        "outputId": "d996b34c-9a4a-46a9-b9fd-a03c4bf13245"
      },
      "execution_count": 86,
      "outputs": [
        {
          "output_type": "execute_result",
          "data": {
            "text/plain": [
              "'yellow'"
            ],
            "application/vnd.google.colaboratory.intrinsic+json": {
              "type": "string"
            }
          },
          "metadata": {},
          "execution_count": 86
        }
      ]
    },
    {
      "cell_type": "code",
      "source": [
        "# Use the drawRectangle method to draw the shape\n",
        "\n",
        "FatYellowRectangle.drawRectangle()"
      ],
      "metadata": {
        "colab": {
          "base_uri": "https://localhost:8080/",
          "height": 132
        },
        "id": "ewYs7_zoo9fs",
        "outputId": "b78977d4-3e3f-4fe2-de79-ee68d5aafa38"
      },
      "execution_count": 87,
      "outputs": [
        {
          "output_type": "display_data",
          "data": {
            "text/plain": [
              "<Figure size 432x288 with 1 Axes>"
            ],
            "image/png": "[encoded data removed]"
          },
          "metadata": {
            "needs_background": "light"
          }
        }
      ]
    },
    {
      "cell_type": "markdown",
      "source": [
        "Review Questions"
      ],
      "metadata": {
        "id": "S1Iv6I-xdrGh"
      }
    },
    {
      "cell_type": "code",
      "source": [],
      "metadata": {
        "id": "w1yJSuyadtuL"
      },
      "execution_count": 62,
      "outputs": []
    }
  ]
}