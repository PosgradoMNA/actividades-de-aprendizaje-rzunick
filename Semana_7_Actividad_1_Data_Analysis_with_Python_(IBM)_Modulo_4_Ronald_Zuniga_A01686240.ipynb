{
  "nbformat": 4,
  "nbformat_minor": 0,
  "metadata": {
    "colab": {
      "provenance": [],
      "collapsed_sections": [],
      "authorship_tag": "ABX9TyMJKYuIEW5n8HTZQxRz4h7r",
      "include_colab_link": true
    },
    "kernelspec": {
      "name": "python3",
      "display_name": "Python 3"
    },
    "language_info": {
      "name": "python"
    }
  },
  "cells": [
    {
      "cell_type": "markdown",
      "metadata": {
        "id": "view-in-github",
        "colab_type": "text"
      },
      "source": [
        "<a href=\"https://colab.research.google.com/github/PosgradoMNA/actividades-de-aprendizaje-rzunick/blob/main/Semana_7_Actividad_1_Data_Analysis_with_Python_(IBM)_Modulo_4_Ronald_Zuniga_A01686240.ipynb\" target=\"_parent\"><img src=\"https://colab.research.google.com/assets/colab-badge.svg\" alt=\"Open In Colab\"/></a>"
      ]
    },
    {
      "cell_type": "markdown",
      "source": [
        "**Semana 7 - Actividad 1: Data Analysis with Python (IBM)**\n",
        "\n",
        "Nombre: Ronald Zuniga\n",
        "\n",
        "Matrícula: A01686240\n",
        "\n",
        "Módulo 4 - Model Development"
      ],
      "metadata": {
        "id": "qyW9zx_QPUmH"
      }
    },
    {
      "cell_type": "markdown",
      "source": [
        "# Lab - Module 4 Model Development"
      ],
      "metadata": {
        "id": "EnjUMgtoTIpC"
      }
    },
    {
      "cell_type": "code",
      "source": [
        "import pandas as pd\n",
        "import numpy as np\n",
        "import matplotlib.pyplot as plt"
      ],
      "metadata": {
        "id": "3ygBjptPijZn"
      },
      "execution_count": 4,
      "outputs": []
    },
    {
      "cell_type": "code",
      "source": [
        "path = 'https://cf-courses-data.s3.us.cloud-object-storage.appdomain.cloud/IBMDeveloperSkillsNetwork-DA0101EN-SkillsNetwork/labs/Data%20files/automobileEDA.csv'"
      ],
      "metadata": {
        "id": "IKgMLhgRnitE"
      },
      "execution_count": 5,
      "outputs": []
    },
    {
      "cell_type": "code",
      "source": [
        "df = pd.read_csv(path)\n",
        "df.head()"
      ],
      "metadata": {
        "colab": {
          "base_uri": "https://localhost:8080/",
          "height": 386
        },
        "id": "64tLBqdYnmi1",
        "outputId": "28cb71b9-ac4a-4a0e-fe93-c44433b9f004"
      },
      "execution_count": 6,
      "outputs": [
        {
          "output_type": "execute_result",
          "data": {
            "text/plain": [
              "   symboling  normalized-losses         make aspiration num-of-doors  \\\n",
              "0          3                122  alfa-romero        std          two   \n",
              "1          3                122  alfa-romero        std          two   \n",
              "2          1                122  alfa-romero        std          two   \n",
              "3          2                164         audi        std         four   \n",
              "4          2                164         audi        std         four   \n",
              "\n",
              "    body-style drive-wheels engine-location  wheel-base    length  ...  \\\n",
              "0  convertible          rwd           front        88.6  0.811148  ...   \n",
              "1  convertible          rwd           front        88.6  0.811148  ...   \n",
              "2    hatchback          rwd           front        94.5  0.822681  ...   \n",
              "3        sedan          fwd           front        99.8  0.848630  ...   \n",
              "4        sedan          4wd           front        99.4  0.848630  ...   \n",
              "\n",
              "   compression-ratio  horsepower  peak-rpm city-mpg highway-mpg    price  \\\n",
              "0                9.0       111.0    5000.0       21          27  13495.0   \n",
              "1                9.0       111.0    5000.0       21          27  16500.0   \n",
              "2                9.0       154.0    5000.0       19          26  16500.0   \n",
              "3               10.0       102.0    5500.0       24          30  13950.0   \n",
              "4                8.0       115.0    5500.0       18          22  17450.0   \n",
              "\n",
              "  city-L/100km  horsepower-binned  diesel  gas  \n",
              "0    11.190476             Medium       0    1  \n",
              "1    11.190476             Medium       0    1  \n",
              "2    12.368421             Medium       0    1  \n",
              "3     9.791667             Medium       0    1  \n",
              "4    13.055556             Medium       0    1  \n",
              "\n",
              "[5 rows x 29 columns]"
            ],
            "text/html": [
              "\n",
              "  <div id=\"df-15cae953-5263-44e9-b466-4575ad9dad72\">\n",
              "    <div class=\"colab-df-container\">\n",
              "      <div>\n",
              "<style scoped>\n",
              "    .dataframe tbody tr th:only-of-type {\n",
              "        vertical-align: middle;\n",
              "    }\n",
              "\n",
              "    .dataframe tbody tr th {\n",
              "        vertical-align: top;\n",
              "    }\n",
              "\n",
              "    .dataframe thead th {\n",
              "        text-align: right;\n",
              "    }\n",
              "</style>\n",
              "<table border=\"1\" class=\"dataframe\">\n",
              "  <thead>\n",
              "    <tr style=\"text-align: right;\">\n",
              "      <th></th>\n",
              "      <th>symboling</th>\n",
              "      <th>normalized-losses</th>\n",
              "      <th>make</th>\n",
              "      <th>aspiration</th>\n",
              "      <th>num-of-doors</th>\n",
              "      <th>body-style</th>\n",
              "      <th>drive-wheels</th>\n",
              "      <th>engine-location</th>\n",
              "      <th>wheel-base</th>\n",
              "      <th>length</th>\n",
              "      <th>...</th>\n",
              "      <th>compression-ratio</th>\n",
              "      <th>horsepower</th>\n",
              "      <th>peak-rpm</th>\n",
              "      <th>city-mpg</th>\n",
              "      <th>highway-mpg</th>\n",
              "      <th>price</th>\n",
              "      <th>city-L/100km</th>\n",
              "      <th>horsepower-binned</th>\n",
              "      <th>diesel</th>\n",
              "      <th>gas</th>\n",
              "    </tr>\n",
              "  </thead>\n",
              "  <tbody>\n",
              "    <tr>\n",
              "      <th>0</th>\n",
              "      <td>3</td>\n",
              "      <td>122</td>\n",
              "      <td>alfa-romero</td>\n",
              "      <td>std</td>\n",
              "      <td>two</td>\n",
              "      <td>convertible</td>\n",
              "      <td>rwd</td>\n",
              "      <td>front</td>\n",
              "      <td>88.6</td>\n",
              "      <td>0.811148</td>\n",
              "      <td>...</td>\n",
              "      <td>9.0</td>\n",
              "      <td>111.0</td>\n",
              "      <td>5000.0</td>\n",
              "      <td>21</td>\n",
              "      <td>27</td>\n",
              "      <td>13495.0</td>\n",
              "      <td>11.190476</td>\n",
              "      <td>Medium</td>\n",
              "      <td>0</td>\n",
              "      <td>1</td>\n",
              "    </tr>\n",
              "    <tr>\n",
              "      <th>1</th>\n",
              "      <td>3</td>\n",
              "      <td>122</td>\n",
              "      <td>alfa-romero</td>\n",
              "      <td>std</td>\n",
              "      <td>two</td>\n",
              "      <td>convertible</td>\n",
              "      <td>rwd</td>\n",
              "      <td>front</td>\n",
              "      <td>88.6</td>\n",
              "      <td>0.811148</td>\n",
              "      <td>...</td>\n",
              "      <td>9.0</td>\n",
              "      <td>111.0</td>\n",
              "      <td>5000.0</td>\n",
              "      <td>21</td>\n",
              "      <td>27</td>\n",
              "      <td>16500.0</td>\n",
              "      <td>11.190476</td>\n",
              "      <td>Medium</td>\n",
              "      <td>0</td>\n",
              "      <td>1</td>\n",
              "    </tr>\n",
              "    <tr>\n",
              "      <th>2</th>\n",
              "      <td>1</td>\n",
              "      <td>122</td>\n",
              "      <td>alfa-romero</td>\n",
              "      <td>std</td>\n",
              "      <td>two</td>\n",
              "      <td>hatchback</td>\n",
              "      <td>rwd</td>\n",
              "      <td>front</td>\n",
              "      <td>94.5</td>\n",
              "      <td>0.822681</td>\n",
              "      <td>...</td>\n",
              "      <td>9.0</td>\n",
              "      <td>154.0</td>\n",
              "      <td>5000.0</td>\n",
              "      <td>19</td>\n",
              "      <td>26</td>\n",
              "      <td>16500.0</td>\n",
              "      <td>12.368421</td>\n",
              "      <td>Medium</td>\n",
              "      <td>0</td>\n",
              "      <td>1</td>\n",
              "    </tr>\n",
              "    <tr>\n",
              "      <th>3</th>\n",
              "      <td>2</td>\n",
              "      <td>164</td>\n",
              "      <td>audi</td>\n",
              "      <td>std</td>\n",
              "      <td>four</td>\n",
              "      <td>sedan</td>\n",
              "      <td>fwd</td>\n",
              "      <td>front</td>\n",
              "      <td>99.8</td>\n",
              "      <td>0.848630</td>\n",
              "      <td>...</td>\n",
              "      <td>10.0</td>\n",
              "      <td>102.0</td>\n",
              "      <td>5500.0</td>\n",
              "      <td>24</td>\n",
              "      <td>30</td>\n",
              "      <td>13950.0</td>\n",
              "      <td>9.791667</td>\n",
              "      <td>Medium</td>\n",
              "      <td>0</td>\n",
              "      <td>1</td>\n",
              "    </tr>\n",
              "    <tr>\n",
              "      <th>4</th>\n",
              "      <td>2</td>\n",
              "      <td>164</td>\n",
              "      <td>audi</td>\n",
              "      <td>std</td>\n",
              "      <td>four</td>\n",
              "      <td>sedan</td>\n",
              "      <td>4wd</td>\n",
              "      <td>front</td>\n",
              "      <td>99.4</td>\n",
              "      <td>0.848630</td>\n",
              "      <td>...</td>\n",
              "      <td>8.0</td>\n",
              "      <td>115.0</td>\n",
              "      <td>5500.0</td>\n",
              "      <td>18</td>\n",
              "      <td>22</td>\n",
              "      <td>17450.0</td>\n",
              "      <td>13.055556</td>\n",
              "      <td>Medium</td>\n",
              "      <td>0</td>\n",
              "      <td>1</td>\n",
              "    </tr>\n",
              "  </tbody>\n",
              "</table>\n",
              "<p>5 rows × 29 columns</p>\n",
              "</div>\n",
              "      <button class=\"colab-df-convert\" onclick=\"convertToInteractive('df-15cae953-5263-44e9-b466-4575ad9dad72')\"\n",
              "              title=\"Convert this dataframe to an interactive table.\"\n",
              "              style=\"display:none;\">\n",
              "        \n",
              "  <svg xmlns=\"http://www.w3.org/2000/svg\" height=\"24px\"viewBox=\"0 0 24 24\"\n",
              "       width=\"24px\">\n",
              "    <path d=\"M0 0h24v24H0V0z\" fill=\"none\"/>\n",
              "    <path d=\"M18.56 5.44l.94 2.06.94-2.06 2.06-.94-2.06-.94-.94-2.06-.94 2.06-2.06.94zm-11 1L8.5 8.5l.94-2.06 2.06-.94-2.06-.94L8.5 2.5l-.94 2.06-2.06.94zm10 10l.94 2.06.94-2.06 2.06-.94-2.06-.94-.94-2.06-.94 2.06-2.06.94z\"/><path d=\"M17.41 7.96l-1.37-1.37c-.4-.4-.92-.59-1.43-.59-.52 0-1.04.2-1.43.59L10.3 9.45l-7.72 7.72c-.78.78-.78 2.05 0 2.83L4 21.41c.39.39.9.59 1.41.59.51 0 1.02-.2 1.41-.59l7.78-7.78 2.81-2.81c.8-.78.8-2.07 0-2.86zM5.41 20L4 18.59l7.72-7.72 1.47 1.35L5.41 20z\"/>\n",
              "  </svg>\n",
              "      </button>\n",
              "      \n",
              "  <style>\n",
              "    .colab-df-container {\n",
              "      display:flex;\n",
              "      flex-wrap:wrap;\n",
              "      gap: 12px;\n",
              "    }\n",
              "\n",
              "    .colab-df-convert {\n",
              "      background-color: #E8F0FE;\n",
              "      border: none;\n",
              "      border-radius: 50%;\n",
              "      cursor: pointer;\n",
              "      display: none;\n",
              "      fill: #1967D2;\n",
              "      height: 32px;\n",
              "      padding: 0 0 0 0;\n",
              "      width: 32px;\n",
              "    }\n",
              "\n",
              "    .colab-df-convert:hover {\n",
              "      background-color: #E2EBFA;\n",
              "      box-shadow: 0px 1px 2px rgba(60, 64, 67, 0.3), 0px 1px 3px 1px rgba(60, 64, 67, 0.15);\n",
              "      fill: #174EA6;\n",
              "    }\n",
              "\n",
              "    [theme=dark] .colab-df-convert {\n",
              "      background-color: #3B4455;\n",
              "      fill: #D2E3FC;\n",
              "    }\n",
              "\n",
              "    [theme=dark] .colab-df-convert:hover {\n",
              "      background-color: #434B5C;\n",
              "      box-shadow: 0px 1px 3px 1px rgba(0, 0, 0, 0.15);\n",
              "      filter: drop-shadow(0px 1px 2px rgba(0, 0, 0, 0.3));\n",
              "      fill: #FFFFFF;\n",
              "    }\n",
              "  </style>\n",
              "\n",
              "      <script>\n",
              "        const buttonEl =\n",
              "          document.querySelector('#df-15cae953-5263-44e9-b466-4575ad9dad72 button.colab-df-convert');\n",
              "        buttonEl.style.display =\n",
              "          google.colab.kernel.accessAllowed ? 'block' : 'none';\n",
              "\n",
              "        async function convertToInteractive(key) {\n",
              "          const element = document.querySelector('#df-15cae953-5263-44e9-b466-4575ad9dad72');\n",
              "          const dataTable =\n",
              "            await google.colab.kernel.invokeFunction('convertToInteractive',\n",
              "                                                     [key], {});\n",
              "          if (!dataTable) return;\n",
              "\n",
              "          const docLinkHtml = 'Like what you see? Visit the ' +\n",
              "            '<a target=\"_blank\" href=https://colab.research.google.com/notebooks/data_table.ipynb>data table notebook</a>'\n",
              "            + ' to learn more about interactive tables.';\n",
              "          element.innerHTML = '';\n",
              "          dataTable['output_type'] = 'display_data';\n",
              "          await google.colab.output.renderOutput(dataTable, element);\n",
              "          const docLink = document.createElement('div');\n",
              "          docLink.innerHTML = docLinkHtml;\n",
              "          element.appendChild(docLink);\n",
              "        }\n",
              "      </script>\n",
              "    </div>\n",
              "  </div>\n",
              "  "
            ]
          },
          "metadata": {},
          "execution_count": 6
        }
      ]
    },
    {
      "cell_type": "markdown",
      "source": [
        "\n",
        "## Linear Regression and Multiple Linear Regression"
      ],
      "metadata": {
        "id": "OxPU8G1PpIsK"
      }
    },
    {
      "cell_type": "code",
      "source": [
        "# Linear Regression and Multiple Linear Regression\n",
        "from sklearn.linear_model import LinearRegression"
      ],
      "metadata": {
        "id": "fJkgUaaqnzqy"
      },
      "execution_count": 7,
      "outputs": []
    },
    {
      "cell_type": "code",
      "source": [
        "lm = LinearRegression()\n",
        "lm"
      ],
      "metadata": {
        "colab": {
          "base_uri": "https://localhost:8080/"
        },
        "id": "e6BcXsGroGMR",
        "outputId": "50bae365-e867-4939-b554-bc3f903819e9"
      },
      "execution_count": 8,
      "outputs": [
        {
          "output_type": "execute_result",
          "data": {
            "text/plain": [
              "LinearRegression()"
            ]
          },
          "metadata": {},
          "execution_count": 8
        }
      ]
    },
    {
      "cell_type": "code",
      "source": [
        "X = df[['highway-mpg']]\n",
        "Y = df['price']"
      ],
      "metadata": {
        "id": "WOQWyxP3oIRY"
      },
      "execution_count": 9,
      "outputs": []
    },
    {
      "cell_type": "code",
      "source": [
        "lm.fit(X,Y)"
      ],
      "metadata": {
        "colab": {
          "base_uri": "https://localhost:8080/"
        },
        "id": "FfLqW66zoMp6",
        "outputId": "9392c169-54a7-4244-ed3c-a51b33532064"
      },
      "execution_count": 10,
      "outputs": [
        {
          "output_type": "execute_result",
          "data": {
            "text/plain": [
              "LinearRegression()"
            ]
          },
          "metadata": {},
          "execution_count": 10
        }
      ]
    },
    {
      "cell_type": "code",
      "source": [
        "Yhat=lm.predict(X)\n",
        "Yhat[0:5]   "
      ],
      "metadata": {
        "colab": {
          "base_uri": "https://localhost:8080/"
        },
        "id": "00m-b3fuoPKh",
        "outputId": "31e52f44-376a-4175-bb53-4353792987c5"
      },
      "execution_count": 11,
      "outputs": [
        {
          "output_type": "execute_result",
          "data": {
            "text/plain": [
              "array([16236.50464347, 16236.50464347, 17058.23802179, 13771.3045085 ,\n",
              "       20345.17153508])"
            ]
          },
          "metadata": {},
          "execution_count": 11
        }
      ]
    },
    {
      "cell_type": "code",
      "source": [
        "# Value of the intercept (a)\n",
        "lm.intercept_"
      ],
      "metadata": {
        "colab": {
          "base_uri": "https://localhost:8080/"
        },
        "id": "RW_WGQJFoR7q",
        "outputId": "fd012517-7de6-44fa-b361-4043344872da"
      },
      "execution_count": 12,
      "outputs": [
        {
          "output_type": "execute_result",
          "data": {
            "text/plain": [
              "38423.3058581574"
            ]
          },
          "metadata": {},
          "execution_count": 12
        }
      ]
    },
    {
      "cell_type": "code",
      "source": [
        "# Value of the slope (b)\n",
        "lm.coef_"
      ],
      "metadata": {
        "colab": {
          "base_uri": "https://localhost:8080/"
        },
        "id": "wCJv__yboTce",
        "outputId": "9a4da12d-a2f3-4b04-9fea-0d742a56bc5e"
      },
      "execution_count": 13,
      "outputs": [
        {
          "output_type": "execute_result",
          "data": {
            "text/plain": [
              "array([-821.73337832])"
            ]
          },
          "metadata": {},
          "execution_count": 13
        }
      ]
    },
    {
      "cell_type": "markdown",
      "source": [
        "Question #1 a): \n",
        "Create a linear regression object called \"lm1\"."
      ],
      "metadata": {
        "id": "wo-CJeJJosxo"
      }
    },
    {
      "cell_type": "code",
      "source": [
        "lm1 = LinearRegression()\n",
        "lm1"
      ],
      "metadata": {
        "colab": {
          "base_uri": "https://localhost:8080/"
        },
        "id": "lcF1flAsoePP",
        "outputId": "2fc0b076-53a8-4771-be60-40d0d5d03e0b"
      },
      "execution_count": 14,
      "outputs": [
        {
          "output_type": "execute_result",
          "data": {
            "text/plain": [
              "LinearRegression()"
            ]
          },
          "metadata": {},
          "execution_count": 14
        }
      ]
    },
    {
      "cell_type": "markdown",
      "source": [
        "Question #1 b): \n",
        "Train the model using \"engine-size\" as the independent variable and \"price\" as the dependent variable?"
      ],
      "metadata": {
        "id": "jWalAZ4Qov6w"
      }
    },
    {
      "cell_type": "code",
      "source": [
        "lm1.fit(df[['engine-size']], df[['price']])\n",
        "lm1"
      ],
      "metadata": {
        "colab": {
          "base_uri": "https://localhost:8080/"
        },
        "id": "IBtoDX83oxSb",
        "outputId": "872cea14-b5d5-4f66-9240-d22330d4d2b5"
      },
      "execution_count": 15,
      "outputs": [
        {
          "output_type": "execute_result",
          "data": {
            "text/plain": [
              "LinearRegression()"
            ]
          },
          "metadata": {},
          "execution_count": 15
        }
      ]
    },
    {
      "cell_type": "markdown",
      "source": [
        "Question #1 c):\n",
        "Find the slope and intercept of the model."
      ],
      "metadata": {
        "id": "Pvz6Zv78o2lq"
      }
    },
    {
      "cell_type": "code",
      "source": [
        "# Slope \n",
        "lm1.coef_"
      ],
      "metadata": {
        "colab": {
          "base_uri": "https://localhost:8080/"
        },
        "id": "9-Apa36yo3-E",
        "outputId": "6e8da9f1-aaa3-4cab-8bc1-424e963c6c20"
      },
      "execution_count": 16,
      "outputs": [
        {
          "output_type": "execute_result",
          "data": {
            "text/plain": [
              "array([[166.86001569]])"
            ]
          },
          "metadata": {},
          "execution_count": 16
        }
      ]
    },
    {
      "cell_type": "code",
      "source": [
        "# Intercept\n",
        "lm1.intercept_"
      ],
      "metadata": {
        "colab": {
          "base_uri": "https://localhost:8080/"
        },
        "id": "UJaTxZM4o6XQ",
        "outputId": "fd76bdcf-afb9-4a9e-cebd-cc00255fb61a"
      },
      "execution_count": 17,
      "outputs": [
        {
          "output_type": "execute_result",
          "data": {
            "text/plain": [
              "array([-7963.33890628])"
            ]
          },
          "metadata": {},
          "execution_count": 17
        }
      ]
    },
    {
      "cell_type": "markdown",
      "source": [
        "Question #1 d): \n",
        "What is the equation of the predicted line? You can use x and yhat or \"engine-size\" or \"price\"."
      ],
      "metadata": {
        "id": "IuWwo0LQo9tZ"
      }
    },
    {
      "cell_type": "code",
      "source": [
        "# using X and Y  \n",
        "Yhat=-7963.34 + 166.86*X\n",
        "Price=-7963.34 + 166.86*df['engine-size']"
      ],
      "metadata": {
        "id": "eDmiKx2jo87P"
      },
      "execution_count": 19,
      "outputs": []
    },
    {
      "cell_type": "markdown",
      "source": [
        "\n",
        "## Multiple Linear Regression"
      ],
      "metadata": {
        "id": "FlwMw_MbpOhD"
      }
    },
    {
      "cell_type": "code",
      "source": [
        "Z = df[['horsepower', 'curb-weight', 'engine-size', 'highway-mpg']]"
      ],
      "metadata": {
        "id": "iY2KULZqpRnc"
      },
      "execution_count": 20,
      "outputs": []
    },
    {
      "cell_type": "code",
      "source": [
        "lm.fit(Z, df['price'])"
      ],
      "metadata": {
        "colab": {
          "base_uri": "https://localhost:8080/"
        },
        "id": "XA1bEvZkpfyX",
        "outputId": "be3f00e7-f6b6-475d-e151-f846a483d063"
      },
      "execution_count": 21,
      "outputs": [
        {
          "output_type": "execute_result",
          "data": {
            "text/plain": [
              "LinearRegression()"
            ]
          },
          "metadata": {},
          "execution_count": 21
        }
      ]
    },
    {
      "cell_type": "code",
      "source": [
        "lm.intercept_"
      ],
      "metadata": {
        "colab": {
          "base_uri": "https://localhost:8080/"
        },
        "id": "hKmBE9y8pjKd",
        "outputId": "ac42fe75-add1-427e-dc98-b704532108db"
      },
      "execution_count": 22,
      "outputs": [
        {
          "output_type": "execute_result",
          "data": {
            "text/plain": [
              "-15806.62462632922"
            ]
          },
          "metadata": {},
          "execution_count": 22
        }
      ]
    },
    {
      "cell_type": "code",
      "source": [
        "lm.coef_"
      ],
      "metadata": {
        "colab": {
          "base_uri": "https://localhost:8080/"
        },
        "id": "d0SsGTmkpmVS",
        "outputId": "f4301c02-14b7-4b9b-9cda-372e1dfecaad"
      },
      "execution_count": 23,
      "outputs": [
        {
          "output_type": "execute_result",
          "data": {
            "text/plain": [
              "array([53.49574423,  4.70770099, 81.53026382, 36.05748882])"
            ]
          },
          "metadata": {},
          "execution_count": 23
        }
      ]
    },
    {
      "cell_type": "markdown",
      "source": [
        "Question #2 a): \n",
        "Create and train a Multiple Linear Regression model \"lm2\" where the response variable is \"price\", and the predictor variable is \"normalized-losses\" and \"highway-mpg\"."
      ],
      "metadata": {
        "id": "zSsCMh12psy7"
      }
    },
    {
      "cell_type": "code",
      "source": [
        "lm2 = LinearRegression()\n",
        "lm2.fit(df[['normalized-losses' , 'highway-mpg']],df['price'])"
      ],
      "metadata": {
        "colab": {
          "base_uri": "https://localhost:8080/"
        },
        "id": "AoiHUVD6ppnL",
        "outputId": "5481e021-d23a-49a2-a5e5-44d283d6bcab"
      },
      "execution_count": 24,
      "outputs": [
        {
          "output_type": "execute_result",
          "data": {
            "text/plain": [
              "LinearRegression()"
            ]
          },
          "metadata": {},
          "execution_count": 24
        }
      ]
    },
    {
      "cell_type": "markdown",
      "source": [
        "Question #2 b): \n",
        "Find the coefficient of the model."
      ],
      "metadata": {
        "id": "vROD18nop0aK"
      }
    },
    {
      "cell_type": "code",
      "source": [
        "lm2.coef_"
      ],
      "metadata": {
        "colab": {
          "base_uri": "https://localhost:8080/"
        },
        "id": "G8NLCFBVpyPt",
        "outputId": "25646968-38d4-4d56-a81f-013c987941d1"
      },
      "execution_count": 25,
      "outputs": [
        {
          "output_type": "execute_result",
          "data": {
            "text/plain": [
              "array([   1.49789586, -820.45434016])"
            ]
          },
          "metadata": {},
          "execution_count": 25
        }
      ]
    },
    {
      "cell_type": "markdown",
      "source": [
        "## Model Evaluation Using Visualization"
      ],
      "metadata": {
        "id": "TM6nYOuMp4gB"
      }
    },
    {
      "cell_type": "code",
      "source": [
        "# import the visualization package: seaborn\n",
        "import seaborn as sns\n",
        "%matplotlib inline "
      ],
      "metadata": {
        "id": "3qcD4zQDp2kR"
      },
      "execution_count": 26,
      "outputs": []
    },
    {
      "cell_type": "code",
      "source": [
        "width = 12\n",
        "height = 10\n",
        "plt.figure(figsize=(width, height))\n",
        "sns.regplot(x=\"highway-mpg\", y=\"price\", data=df)\n",
        "plt.ylim(0,)"
      ],
      "metadata": {
        "colab": {
          "base_uri": "https://localhost:8080/",
          "height": 623
        },
        "id": "U1aM6ku7qAYa",
        "outputId": "07ff2090-f173-4f4b-bd97-7b5bc6a8c647"
      },
      "execution_count": 27,
      "outputs": [
        {
          "output_type": "execute_result",
          "data": {
            "text/plain": [
              "(0.0, 48185.22402277819)"
            ]
          },
          "metadata": {},
          "execution_count": 27
        },
        {
          "output_type": "display_data",
          "data": {
            "text/plain": [
              "<Figure size 864x720 with 1 Axes>"
            ],
            "image/png": "[encoded data removed]"
          },
          "metadata": {
            "needs_background": "light"
          }
        }
      ]
    },
    {
      "cell_type": "code",
      "source": [
        "plt.figure(figsize=(width, height))\n",
        "sns.regplot(x=\"peak-rpm\", y=\"price\", data=df)\n",
        "plt.ylim(0,)"
      ],
      "metadata": {
        "colab": {
          "base_uri": "https://localhost:8080/",
          "height": 623
        },
        "id": "qs_XXmsIqJ_w",
        "outputId": "71b7cce0-1b80-4124-ee13-00ac120c5176"
      },
      "execution_count": 28,
      "outputs": [
        {
          "output_type": "execute_result",
          "data": {
            "text/plain": [
              "(0.0, 47414.1)"
            ]
          },
          "metadata": {},
          "execution_count": 28
        },
        {
          "output_type": "display_data",
          "data": {
            "text/plain": [
              "<Figure size 864x720 with 1 Axes>"
            ],
            "image/png": "[encoded data removed]"
          },
          "metadata": {
            "needs_background": "light"
          }
        }
      ]
    },
    {
      "cell_type": "markdown",
      "source": [
        "Question #3:\n",
        "Given the regression plots above, is \"peak-rpm\" or \"highway-mpg\" more strongly correlated with \"price\"? Use the method \".corr()\" to verify your answer."
      ],
      "metadata": {
        "id": "6AQSTFWMqk-z"
      }
    },
    {
      "cell_type": "code",
      "source": [
        "# La variable \"highway-mpg\" tiene una correlacion mas fuerte con la variable \"price\" en comparacion con la variable \"peak-rpm\"\n",
        "df[[\"peak-rpm\",\"highway-mpg\",\"price\"]].corr()"
      ],
      "metadata": {
        "colab": {
          "base_uri": "https://localhost:8080/",
          "height": 143
        },
        "id": "UNAVJmbSqeRh",
        "outputId": "639c15ae-94ec-4715-c214-f028e9e20367"
      },
      "execution_count": 30,
      "outputs": [
        {
          "output_type": "execute_result",
          "data": {
            "text/plain": [
              "             peak-rpm  highway-mpg     price\n",
              "peak-rpm     1.000000    -0.058598 -0.101616\n",
              "highway-mpg -0.058598     1.000000 -0.704692\n",
              "price       -0.101616    -0.704692  1.000000"
            ],
            "text/html": [
              "\n",
              "  <div id=\"df-2a1ce052-19b3-4d14-bbb0-a24763a6b57f\">\n",
              "    <div class=\"colab-df-container\">\n",
              "      <div>\n",
              "<style scoped>\n",
              "    .dataframe tbody tr th:only-of-type {\n",
              "        vertical-align: middle;\n",
              "    }\n",
              "\n",
              "    .dataframe tbody tr th {\n",
              "        vertical-align: top;\n",
              "    }\n",
              "\n",
              "    .dataframe thead th {\n",
              "        text-align: right;\n",
              "    }\n",
              "</style>\n",
              "<table border=\"1\" class=\"dataframe\">\n",
              "  <thead>\n",
              "    <tr style=\"text-align: right;\">\n",
              "      <th></th>\n",
              "      <th>peak-rpm</th>\n",
              "      <th>highway-mpg</th>\n",
              "      <th>price</th>\n",
              "    </tr>\n",
              "  </thead>\n",
              "  <tbody>\n",
              "    <tr>\n",
              "      <th>peak-rpm</th>\n",
              "      <td>1.000000</td>\n",
              "      <td>-0.058598</td>\n",
              "      <td>-0.101616</td>\n",
              "    </tr>\n",
              "    <tr>\n",
              "      <th>highway-mpg</th>\n",
              "      <td>-0.058598</td>\n",
              "      <td>1.000000</td>\n",
              "      <td>-0.704692</td>\n",
              "    </tr>\n",
              "    <tr>\n",
              "      <th>price</th>\n",
              "      <td>-0.101616</td>\n",
              "      <td>-0.704692</td>\n",
              "      <td>1.000000</td>\n",
              "    </tr>\n",
              "  </tbody>\n",
              "</table>\n",
              "</div>\n",
              "      <button class=\"colab-df-convert\" onclick=\"convertToInteractive('df-2a1ce052-19b3-4d14-bbb0-a24763a6b57f')\"\n",
              "              title=\"Convert this dataframe to an interactive table.\"\n",
              "              style=\"display:none;\">\n",
              "        \n",
              "  <svg xmlns=\"http://www.w3.org/2000/svg\" height=\"24px\"viewBox=\"0 0 24 24\"\n",
              "       width=\"24px\">\n",
              "    <path d=\"M0 0h24v24H0V0z\" fill=\"none\"/>\n",
              "    <path d=\"M18.56 5.44l.94 2.06.94-2.06 2.06-.94-2.06-.94-.94-2.06-.94 2.06-2.06.94zm-11 1L8.5 8.5l.94-2.06 2.06-.94-2.06-.94L8.5 2.5l-.94 2.06-2.06.94zm10 10l.94 2.06.94-2.06 2.06-.94-2.06-.94-.94-2.06-.94 2.06-2.06.94z\"/><path d=\"M17.41 7.96l-1.37-1.37c-.4-.4-.92-.59-1.43-.59-.52 0-1.04.2-1.43.59L10.3 9.45l-7.72 7.72c-.78.78-.78 2.05 0 2.83L4 21.41c.39.39.9.59 1.41.59.51 0 1.02-.2 1.41-.59l7.78-7.78 2.81-2.81c.8-.78.8-2.07 0-2.86zM5.41 20L4 18.59l7.72-7.72 1.47 1.35L5.41 20z\"/>\n",
              "  </svg>\n",
              "      </button>\n",
              "      \n",
              "  <style>\n",
              "    .colab-df-container {\n",
              "      display:flex;\n",
              "      flex-wrap:wrap;\n",
              "      gap: 12px;\n",
              "    }\n",
              "\n",
              "    .colab-df-convert {\n",
              "      background-color: #E8F0FE;\n",
              "      border: none;\n",
              "      border-radius: 50%;\n",
              "      cursor: pointer;\n",
              "      display: none;\n",
              "      fill: #1967D2;\n",
              "      height: 32px;\n",
              "      padding: 0 0 0 0;\n",
              "      width: 32px;\n",
              "    }\n",
              "\n",
              "    .colab-df-convert:hover {\n",
              "      background-color: #E2EBFA;\n",
              "      box-shadow: 0px 1px 2px rgba(60, 64, 67, 0.3), 0px 1px 3px 1px rgba(60, 64, 67, 0.15);\n",
              "      fill: #174EA6;\n",
              "    }\n",
              "\n",
              "    [theme=dark] .colab-df-convert {\n",
              "      background-color: #3B4455;\n",
              "      fill: #D2E3FC;\n",
              "    }\n",
              "\n",
              "    [theme=dark] .colab-df-convert:hover {\n",
              "      background-color: #434B5C;\n",
              "      box-shadow: 0px 1px 3px 1px rgba(0, 0, 0, 0.15);\n",
              "      filter: drop-shadow(0px 1px 2px rgba(0, 0, 0, 0.3));\n",
              "      fill: #FFFFFF;\n",
              "    }\n",
              "  </style>\n",
              "\n",
              "      <script>\n",
              "        const buttonEl =\n",
              "          document.querySelector('#df-2a1ce052-19b3-4d14-bbb0-a24763a6b57f button.colab-df-convert');\n",
              "        buttonEl.style.display =\n",
              "          google.colab.kernel.accessAllowed ? 'block' : 'none';\n",
              "\n",
              "        async function convertToInteractive(key) {\n",
              "          const element = document.querySelector('#df-2a1ce052-19b3-4d14-bbb0-a24763a6b57f');\n",
              "          const dataTable =\n",
              "            await google.colab.kernel.invokeFunction('convertToInteractive',\n",
              "                                                     [key], {});\n",
              "          if (!dataTable) return;\n",
              "\n",
              "          const docLinkHtml = 'Like what you see? Visit the ' +\n",
              "            '<a target=\"_blank\" href=https://colab.research.google.com/notebooks/data_table.ipynb>data table notebook</a>'\n",
              "            + ' to learn more about interactive tables.';\n",
              "          element.innerHTML = '';\n",
              "          dataTable['output_type'] = 'display_data';\n",
              "          await google.colab.output.renderOutput(dataTable, element);\n",
              "          const docLink = document.createElement('div');\n",
              "          docLink.innerHTML = docLinkHtml;\n",
              "          element.appendChild(docLink);\n",
              "        }\n",
              "      </script>\n",
              "    </div>\n",
              "  </div>\n",
              "  "
            ]
          },
          "metadata": {},
          "execution_count": 30
        }
      ]
    },
    {
      "cell_type": "code",
      "source": [
        "width = 12\n",
        "height = 10\n",
        "plt.figure(figsize=(width, height))\n",
        "sns.residplot(x=df['highway-mpg'],y=df['price'])\n",
        "plt.show()"
      ],
      "metadata": {
        "colab": {
          "base_uri": "https://localhost:8080/",
          "height": 606
        },
        "id": "LO0G9BkNrO29",
        "outputId": "bbe3b91b-3b13-46d2-ab9e-0215e61acfcb"
      },
      "execution_count": 31,
      "outputs": [
        {
          "output_type": "display_data",
          "data": {
            "text/plain": [
              "<Figure size 864x720 with 1 Axes>"
            ],
            "image/png": "[encoded data removed]"
          },
          "metadata": {
            "needs_background": "light"
          }
        }
      ]
    },
    {
      "cell_type": "code",
      "source": [
        "Y_hat = lm.predict(Z)"
      ],
      "metadata": {
        "id": "WbLmzHFsrdIw"
      },
      "execution_count": 32,
      "outputs": []
    },
    {
      "cell_type": "code",
      "source": [
        "plt.figure(figsize=(width, height))\n",
        "\n",
        "\n",
        "ax1 = sns.distplot(df['price'], hist=False, color=\"r\", label=\"Actual Value\")\n",
        "sns.distplot(Y_hat, hist=False, color=\"b\", label=\"Fitted Values\" , ax=ax1)\n",
        "\n",
        "\n",
        "plt.title('Actual vs Fitted Values for Price')\n",
        "plt.xlabel('Price (in dollars)')\n",
        "plt.ylabel('Proportion of Cars')\n",
        "\n",
        "plt.show()\n",
        "plt.close()"
      ],
      "metadata": {
        "colab": {
          "base_uri": "https://localhost:8080/",
          "height": 710
        },
        "id": "aiaCakNkru-A",
        "outputId": "54a46b99-94a7-42a4-c648-ce781553ebd8"
      },
      "execution_count": 33,
      "outputs": [
        {
          "output_type": "stream",
          "name": "stderr",
          "text": [
            "/usr/local/lib/python3.7/dist-packages/seaborn/distributions.py:2619: FutureWarning: `distplot` is a deprecated function and will be removed in a future version. Please adapt your code to use either `displot` (a figure-level function with similar flexibility) or `kdeplot` (an axes-level function for kernel density plots).\n",
            "  warnings.warn(msg, FutureWarning)\n",
            "/usr/local/lib/python3.7/dist-packages/seaborn/distributions.py:2619: FutureWarning: `distplot` is a deprecated function and will be removed in a future version. Please adapt your code to use either `displot` (a figure-level function with similar flexibility) or `kdeplot` (an axes-level function for kernel density plots).\n",
            "  warnings.warn(msg, FutureWarning)\n"
          ]
        },
        {
          "output_type": "display_data",
          "data": {
            "text/plain": [
              "<Figure size 864x720 with 1 Axes>"
            ],
            "image/png": "[encoded data removed]"
          },
          "metadata": {
            "needs_background": "light"
          }
        }
      ]
    },
    {
      "cell_type": "markdown",
      "source": [
        "## Polynomial Regression and Pipelines"
      ],
      "metadata": {
        "id": "MpW5VwmWr7NX"
      }
    },
    {
      "cell_type": "code",
      "source": [
        "def PlotPolly(model, independent_variable, dependent_variabble, Name):\n",
        "    x_new = np.linspace(15, 55, 100)\n",
        "    y_new = model(x_new)\n",
        "\n",
        "    plt.plot(independent_variable, dependent_variabble, '.', x_new, y_new, '-')\n",
        "    plt.title('Polynomial Fit with Matplotlib for Price ~ Length')\n",
        "    ax = plt.gca()\n",
        "    ax.set_facecolor((0.898, 0.898, 0.898))\n",
        "    fig = plt.gcf()\n",
        "    plt.xlabel(Name)\n",
        "    plt.ylabel('Price of Cars')\n",
        "\n",
        "    plt.show()\n",
        "    plt.close()"
      ],
      "metadata": {
        "id": "6NitSL6wr6kO"
      },
      "execution_count": 34,
      "outputs": []
    },
    {
      "cell_type": "code",
      "source": [
        "x = df['highway-mpg']\n",
        "y = df['price']"
      ],
      "metadata": {
        "id": "jHGCpGC6sOAo"
      },
      "execution_count": 35,
      "outputs": []
    },
    {
      "cell_type": "code",
      "source": [
        "# Here we use a polynomial of the 3rd order (cubic) \n",
        "f = np.polyfit(x, y, 3)\n",
        "p = np.poly1d(f)\n",
        "print(p)"
      ],
      "metadata": {
        "colab": {
          "base_uri": "https://localhost:8080/"
        },
        "id": "FU4VMEXBsQCd",
        "outputId": "b1dbccc9-b8c3-4c47-fa98-0c4d8827b0ac"
      },
      "execution_count": 36,
      "outputs": [
        {
          "output_type": "stream",
          "name": "stdout",
          "text": [
            "        3         2\n",
            "-1.557 x + 204.8 x - 8965 x + 1.379e+05\n"
          ]
        }
      ]
    },
    {
      "cell_type": "code",
      "source": [
        "PlotPolly(p, x, y, 'highway-mpg')"
      ],
      "metadata": {
        "colab": {
          "base_uri": "https://localhost:8080/",
          "height": 295
        },
        "id": "XcXdRZ8hsUDF",
        "outputId": "b567c7fc-330f-4dd6-83ff-5256094cc6e0"
      },
      "execution_count": 37,
      "outputs": [
        {
          "output_type": "display_data",
          "data": {
            "text/plain": [
              "<Figure size 432x288 with 1 Axes>"
            ],
            "image/png": "[encoded data removed]"
          },
          "metadata": {
            "needs_background": "light"
          }
        }
      ]
    },
    {
      "cell_type": "code",
      "source": [
        "np.polyfit(x, y, 3)"
      ],
      "metadata": {
        "colab": {
          "base_uri": "https://localhost:8080/"
        },
        "id": "BkhGhL5wsW6H",
        "outputId": "9e5d1622-cc8a-4863-9e21-0a7fa9efae3c"
      },
      "execution_count": 38,
      "outputs": [
        {
          "output_type": "execute_result",
          "data": {
            "text/plain": [
              "array([-1.55663829e+00,  2.04754306e+02, -8.96543312e+03,  1.37923594e+05])"
            ]
          },
          "metadata": {},
          "execution_count": 38
        }
      ]
    },
    {
      "cell_type": "markdown",
      "source": [
        "Question #4:\n",
        "Create 11 order polynomial model with the variables x and y from above."
      ],
      "metadata": {
        "id": "YEbbbVLSsbUz"
      }
    },
    {
      "cell_type": "code",
      "source": [
        "# Here we use a polynomial of the 11rd order (cubic) \n",
        "f1 = np.polyfit(x, y, 11)\n",
        "p1 = np.poly1d(f1)\n",
        "print(p1)\n",
        "PlotPolly(p1,x,y, 'Highway MPG')"
      ],
      "metadata": {
        "colab": {
          "base_uri": "https://localhost:8080/",
          "height": 364
        },
        "id": "0MZzGYFasZ5W",
        "outputId": "25b281b5-a4ae-41ee-cf77-4f04826ed77d"
      },
      "execution_count": 39,
      "outputs": [
        {
          "output_type": "stream",
          "name": "stdout",
          "text": [
            "            11             10             9           8         7\n",
            "-1.243e-08 x  + 4.722e-06 x  - 0.0008028 x + 0.08056 x - 5.297 x\n",
            "          6        5             4             3             2\n",
            " + 239.5 x - 7588 x + 1.684e+05 x - 2.565e+06 x + 2.551e+07 x - 1.491e+08 x + 3.879e+08\n"
          ]
        },
        {
          "output_type": "display_data",
          "data": {
            "text/plain": [
              "<Figure size 432x288 with 1 Axes>"
            ],
            "image/png": "[encoded data removed]"
          },
          "metadata": {
            "needs_background": "light"
          }
        }
      ]
    },
    {
      "cell_type": "code",
      "source": [
        "from sklearn.preprocessing import PolynomialFeatures"
      ],
      "metadata": {
        "id": "7_lsAEi7skXJ"
      },
      "execution_count": 40,
      "outputs": []
    },
    {
      "cell_type": "code",
      "source": [
        "pr=PolynomialFeatures(degree=2)\n",
        "pr"
      ],
      "metadata": {
        "colab": {
          "base_uri": "https://localhost:8080/"
        },
        "id": "77RICYZBsqNw",
        "outputId": "99a6d058-34e2-4f65-c545-c3f7ad66f5a5"
      },
      "execution_count": 41,
      "outputs": [
        {
          "output_type": "execute_result",
          "data": {
            "text/plain": [
              "PolynomialFeatures()"
            ]
          },
          "metadata": {},
          "execution_count": 41
        }
      ]
    },
    {
      "cell_type": "code",
      "source": [
        "Z_pr=pr.fit_transform(Z)"
      ],
      "metadata": {
        "id": "RycJRWofssEZ"
      },
      "execution_count": 42,
      "outputs": []
    },
    {
      "cell_type": "code",
      "source": [
        "Z.shape"
      ],
      "metadata": {
        "colab": {
          "base_uri": "https://localhost:8080/"
        },
        "id": "RsaWr0DWsuvW",
        "outputId": "9a0fddcb-ce67-4bbc-c7fb-9e2982f5ae34"
      },
      "execution_count": 43,
      "outputs": [
        {
          "output_type": "execute_result",
          "data": {
            "text/plain": [
              "(201, 4)"
            ]
          },
          "metadata": {},
          "execution_count": 43
        }
      ]
    },
    {
      "cell_type": "code",
      "source": [
        "Z_pr.shape"
      ],
      "metadata": {
        "colab": {
          "base_uri": "https://localhost:8080/"
        },
        "id": "-OnsfvGDsvWT",
        "outputId": "ea63635d-3072-4072-ab67-a48bb5285584"
      },
      "execution_count": 44,
      "outputs": [
        {
          "output_type": "execute_result",
          "data": {
            "text/plain": [
              "(201, 15)"
            ]
          },
          "metadata": {},
          "execution_count": 44
        }
      ]
    },
    {
      "cell_type": "code",
      "source": [
        "from sklearn.pipeline import Pipeline\n",
        "from sklearn.preprocessing import StandardScaler"
      ],
      "metadata": {
        "id": "LjD9eJtvsxX8"
      },
      "execution_count": 45,
      "outputs": []
    },
    {
      "cell_type": "code",
      "source": [
        "Input=[('scale',StandardScaler()), ('polynomial', PolynomialFeatures(include_bias=False)), ('model',LinearRegression())]"
      ],
      "metadata": {
        "id": "rBvYZV_Ys1fg"
      },
      "execution_count": 46,
      "outputs": []
    },
    {
      "cell_type": "code",
      "source": [
        "pipe=Pipeline(Input)\n",
        "pipe"
      ],
      "metadata": {
        "colab": {
          "base_uri": "https://localhost:8080/"
        },
        "id": "RNiB48E5s4Jb",
        "outputId": "f78363de-cd30-465c-f742-186c6d7c6165"
      },
      "execution_count": 47,
      "outputs": [
        {
          "output_type": "execute_result",
          "data": {
            "text/plain": [
              "Pipeline(steps=[('scale', StandardScaler()),\n",
              "                ('polynomial', PolynomialFeatures(include_bias=False)),\n",
              "                ('model', LinearRegression())])"
            ]
          },
          "metadata": {},
          "execution_count": 47
        }
      ]
    },
    {
      "cell_type": "code",
      "source": [
        "Z = Z.astype(float)\n",
        "pipe.fit(Z,y)"
      ],
      "metadata": {
        "colab": {
          "base_uri": "https://localhost:8080/"
        },
        "id": "v52b3PRVs61J",
        "outputId": "18d3f318-af27-4803-86d3-a32b13436beb"
      },
      "execution_count": 48,
      "outputs": [
        {
          "output_type": "execute_result",
          "data": {
            "text/plain": [
              "Pipeline(steps=[('scale', StandardScaler()),\n",
              "                ('polynomial', PolynomialFeatures(include_bias=False)),\n",
              "                ('model', LinearRegression())])"
            ]
          },
          "metadata": {},
          "execution_count": 48
        }
      ]
    },
    {
      "cell_type": "code",
      "source": [
        "ypipe=pipe.predict(Z)\n",
        "ypipe[0:4]"
      ],
      "metadata": {
        "colab": {
          "base_uri": "https://localhost:8080/"
        },
        "id": "HHPS59nLtAtG",
        "outputId": "86829208-cb63-4a8d-89b1-c7c35b59babe"
      },
      "execution_count": 49,
      "outputs": [
        {
          "output_type": "execute_result",
          "data": {
            "text/plain": [
              "array([13102.74784201, 13102.74784201, 18225.54572197, 10390.29636555])"
            ]
          },
          "metadata": {},
          "execution_count": 49
        }
      ]
    },
    {
      "cell_type": "markdown",
      "source": [
        "Question #5:\n",
        "Create a pipeline that standardizes the data, then produce a prediction using a linear regression model using the features Z and target y."
      ],
      "metadata": {
        "id": "nH_9xG3ntEs2"
      }
    },
    {
      "cell_type": "code",
      "source": [
        "Input=[('scale',StandardScaler()),('model',LinearRegression())]\n",
        "\n",
        "pipe=Pipeline(Input)\n",
        "\n",
        "pipe.fit(Z,y)\n",
        "\n",
        "ypipe=pipe.predict(Z)\n",
        "ypipe[0:10]"
      ],
      "metadata": {
        "colab": {
          "base_uri": "https://localhost:8080/"
        },
        "id": "wx6VwxSvtD9k",
        "outputId": "16e42d4b-4c71-45ef-d1f0-ea45265a0c8c"
      },
      "execution_count": 50,
      "outputs": [
        {
          "output_type": "execute_result",
          "data": {
            "text/plain": [
              "array([13699.11161184, 13699.11161184, 19051.65470233, 10620.36193015,\n",
              "       15521.31420211, 13869.66673213, 15456.16196732, 15974.00907672,\n",
              "       17612.35917161, 10722.32509097])"
            ]
          },
          "metadata": {},
          "execution_count": 50
        }
      ]
    },
    {
      "cell_type": "markdown",
      "source": [
        "## Measures for In-Sample Evaluation"
      ],
      "metadata": {
        "id": "F0TwWXAftORM"
      }
    },
    {
      "cell_type": "code",
      "source": [
        "#highway_mpg_fit\n",
        "lm.fit(X, Y)\n",
        "# Find the R^2\n",
        "print('The R-square is: ', lm.score(X, Y))"
      ],
      "metadata": {
        "colab": {
          "base_uri": "https://localhost:8080/"
        },
        "id": "aSDuI0RNtNGF",
        "outputId": "f246540b-b182-4f25-e99e-1686cf6defa2"
      },
      "execution_count": 51,
      "outputs": [
        {
          "output_type": "stream",
          "name": "stdout",
          "text": [
            "The R-square is:  0.4965911884339176\n"
          ]
        }
      ]
    },
    {
      "cell_type": "code",
      "source": [
        "Yhat=lm.predict(X)\n",
        "print('The output of the first four predicted value is: ', Yhat[0:4])"
      ],
      "metadata": {
        "colab": {
          "base_uri": "https://localhost:8080/"
        },
        "id": "jLKFa4-muJHA",
        "outputId": "36138f18-6ce0-4811-af9f-e855ae93af30"
      },
      "execution_count": 52,
      "outputs": [
        {
          "output_type": "stream",
          "name": "stdout",
          "text": [
            "The output of the first four predicted value is:  [16236.50464347 16236.50464347 17058.23802179 13771.3045085 ]\n"
          ]
        }
      ]
    },
    {
      "cell_type": "code",
      "source": [
        "from sklearn.metrics import mean_squared_error"
      ],
      "metadata": {
        "id": "Q7aU18YAuTto"
      },
      "execution_count": 53,
      "outputs": []
    },
    {
      "cell_type": "code",
      "source": [
        "mse = mean_squared_error(df['price'], Yhat)\n",
        "print('The mean square error of price and predicted value is: ', mse)"
      ],
      "metadata": {
        "colab": {
          "base_uri": "https://localhost:8080/"
        },
        "id": "hnPZXm62uUlO",
        "outputId": "6703421d-bcce-4c93-9a2e-e9695522e725"
      },
      "execution_count": 54,
      "outputs": [
        {
          "output_type": "stream",
          "name": "stdout",
          "text": [
            "The mean square error of price and predicted value is:  31635042.944639888\n"
          ]
        }
      ]
    },
    {
      "cell_type": "code",
      "source": [
        "# fit the model \n",
        "lm.fit(Z, df['price'])\n",
        "# Find the R^2\n",
        "print('The R-square is: ', lm.score(Z, df['price']))"
      ],
      "metadata": {
        "colab": {
          "base_uri": "https://localhost:8080/"
        },
        "id": "dEBKPfFvuYMz",
        "outputId": "0e0b9598-650b-4832-c90a-01572b889ddd"
      },
      "execution_count": 55,
      "outputs": [
        {
          "output_type": "stream",
          "name": "stdout",
          "text": [
            "The R-square is:  0.8093562806577457\n"
          ]
        }
      ]
    },
    {
      "cell_type": "code",
      "source": [
        "Y_predict_multifit = lm.predict(Z)"
      ],
      "metadata": {
        "id": "LIyvvVx2uecS"
      },
      "execution_count": 56,
      "outputs": []
    },
    {
      "cell_type": "code",
      "source": [
        "print('The mean square error of price and predicted value using multifit is: ', \\\n",
        "      mean_squared_error(df['price'], Y_predict_multifit))"
      ],
      "metadata": {
        "colab": {
          "base_uri": "https://localhost:8080/"
        },
        "id": "MuXwH7_Guq1M",
        "outputId": "ded89bb9-dc1f-4f2e-996d-745f75e7af97"
      },
      "execution_count": 57,
      "outputs": [
        {
          "output_type": "stream",
          "name": "stdout",
          "text": [
            "The mean square error of price and predicted value using multifit is:  11980366.87072649\n"
          ]
        }
      ]
    },
    {
      "cell_type": "code",
      "source": [
        "from sklearn.metrics import r2_score"
      ],
      "metadata": {
        "id": "88Rfx1g_utYN"
      },
      "execution_count": 58,
      "outputs": []
    },
    {
      "cell_type": "code",
      "source": [
        "r_squared = r2_score(y, p(x))\n",
        "print('The R-square value is: ', r_squared)"
      ],
      "metadata": {
        "colab": {
          "base_uri": "https://localhost:8080/"
        },
        "id": "d6ivuveuuvQG",
        "outputId": "b9cc57a6-5cc3-4d02-b230-53fb0b1e7850"
      },
      "execution_count": 59,
      "outputs": [
        {
          "output_type": "stream",
          "name": "stdout",
          "text": [
            "The R-square value is:  0.674194666390652\n"
          ]
        }
      ]
    },
    {
      "cell_type": "code",
      "source": [
        "mean_squared_error(df['price'], p(x))"
      ],
      "metadata": {
        "colab": {
          "base_uri": "https://localhost:8080/"
        },
        "id": "lOpfDHiDuyXV",
        "outputId": "74a3f4b9-878d-407b-a3aa-3e0e4c0d06fb"
      },
      "execution_count": 60,
      "outputs": [
        {
          "output_type": "execute_result",
          "data": {
            "text/plain": [
              "20474146.426361218"
            ]
          },
          "metadata": {},
          "execution_count": 60
        }
      ]
    },
    {
      "cell_type": "markdown",
      "source": [
        "## Prediction and Decision Making"
      ],
      "metadata": {
        "id": "Tl7gsTtyu2XY"
      }
    },
    {
      "cell_type": "code",
      "source": [
        "import matplotlib.pyplot as plt\n",
        "import numpy as np\n",
        "\n",
        "%matplotlib inline "
      ],
      "metadata": {
        "id": "2P1H5afPu0YZ"
      },
      "execution_count": 61,
      "outputs": []
    },
    {
      "cell_type": "code",
      "source": [
        "new_input=np.arange(1, 100, 1).reshape(-1, 1)"
      ],
      "metadata": {
        "id": "UWQnzasyvISd"
      },
      "execution_count": 62,
      "outputs": []
    },
    {
      "cell_type": "code",
      "source": [
        "lm.fit(X, Y)\n",
        "lm"
      ],
      "metadata": {
        "colab": {
          "base_uri": "https://localhost:8080/"
        },
        "id": "KJMYjhiBvKR8",
        "outputId": "77e17325-b431-4021-d32f-9f894d70d564"
      },
      "execution_count": 63,
      "outputs": [
        {
          "output_type": "execute_result",
          "data": {
            "text/plain": [
              "LinearRegression()"
            ]
          },
          "metadata": {},
          "execution_count": 63
        }
      ]
    },
    {
      "cell_type": "code",
      "source": [
        "yhat=lm.predict(new_input)\n",
        "yhat[0:5]"
      ],
      "metadata": {
        "colab": {
          "base_uri": "https://localhost:8080/"
        },
        "id": "yTkAYMaavQYR",
        "outputId": "1339721c-9dee-42d6-f72b-8e124fe72ed4"
      },
      "execution_count": 65,
      "outputs": [
        {
          "output_type": "stream",
          "name": "stderr",
          "text": [
            "/usr/local/lib/python3.7/dist-packages/sklearn/base.py:451: UserWarning: X does not have valid feature names, but LinearRegression was fitted with feature names\n",
            "  \"X does not have valid feature names, but\"\n"
          ]
        },
        {
          "output_type": "execute_result",
          "data": {
            "text/plain": [
              "array([37601.57247984, 36779.83910151, 35958.10572319, 35136.37234487,\n",
              "       34314.63896655])"
            ]
          },
          "metadata": {},
          "execution_count": 65
        }
      ]
    },
    {
      "cell_type": "code",
      "source": [
        "plt.plot(new_input, yhat)\n",
        "plt.show()"
      ],
      "metadata": {
        "colab": {
          "base_uri": "https://localhost:8080/",
          "height": 265
        },
        "id": "Qs5juPD3vMP4",
        "outputId": "3b35c075-d77e-4a7f-8b50-4626591b4c9a"
      },
      "execution_count": 66,
      "outputs": [
        {
          "output_type": "display_data",
          "data": {
            "text/plain": [
              "<Figure size 432x288 with 1 Axes>"
            ],
            "image/png": "[encoded data removed]"
          },
          "metadata": {
            "needs_background": "light"
          }
        }
      ]
    },
    {
      "cell_type": "markdown",
      "source": [
        "Now that we have visualized the different models, and generated the R-squared and MSE values for the fits, how do we determine a good model fit?\n",
        "\n",
        "What is a good R-squared value?\n",
        "When comparing models, the model with the higher R-squared value is a better fit for the data.\n",
        "\n",
        "What is a good MSE?\n",
        "When comparing models, the model with the smallest MSE value is a better fit for the data."
      ],
      "metadata": {
        "id": "U7Sn8DYfvXaI"
      }
    },
    {
      "cell_type": "code",
      "source": [],
      "metadata": {
        "id": "HU7Z_fM9vgu4"
      },
      "execution_count": null,
      "outputs": []
    },
    {
      "cell_type": "markdown",
      "source": [
        "# Course Progress"
      ],
      "metadata": {
        "id": "zuNOAuB40ey-"
      }
    },
    {
      "cell_type": "markdown",
      "source": [
        "![image.png](data:image/png;base64,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)"
      ],
      "metadata": {
        "id": "s-nJ9dRNxJ1_"
      }
    },
    {
      "cell_type": "code",
      "source": [],
      "metadata": {
        "id": "7FtdAUKKjLnV"
      },
      "execution_count": null,
      "outputs": []
    }
  ]
}