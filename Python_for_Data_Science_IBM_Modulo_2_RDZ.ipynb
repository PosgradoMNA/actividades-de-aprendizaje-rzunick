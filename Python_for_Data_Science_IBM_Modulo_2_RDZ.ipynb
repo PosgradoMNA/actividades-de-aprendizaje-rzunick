{
  "nbformat": 4,
  "nbformat_minor": 0,
  "metadata": {
    "colab": {
      "provenance": [],
      "collapsed_sections": [],
      "authorship_tag": "ABX9TyNcveyTp7CJYHmAqvBowJio",
      "include_colab_link": true
    },
    "kernelspec": {
      "name": "python3",
      "display_name": "Python 3"
    },
    "language_info": {
      "name": "python"
    }
  },
  "cells": [
    {
      "cell_type": "markdown",
      "metadata": {
        "id": "view-in-github",
        "colab_type": "text"
      },
      "source": [
        "<a href=\"https://colab.research.google.com/github/PosgradoMNA/actividades-de-aprendizaje-rzunick/blob/main/Python_for_Data_Science_IBM_Modulo_2_RDZ.ipynb\" target=\"_parent\"><img src=\"https://colab.research.google.com/assets/colab-badge.svg\" alt=\"Open In Colab\"/></a>"
      ]
    },
    {
      "cell_type": "markdown",
      "source": [
        "Python Data Structures"
      ],
      "metadata": {
        "id": "I7FPIxPbOycT"
      }
    },
    {
      "cell_type": "code",
      "execution_count": null,
      "metadata": {
        "id": "EzBOii0lQ9iQ"
      },
      "outputs": [],
      "source": [
        "#Workspace for code tryouts"
      ]
    },
    {
      "cell_type": "markdown",
      "source": [
        "Lab - Lists and Tuples"
      ],
      "metadata": {
        "id": "KPG_Bg5GOxoD"
      }
    },
    {
      "cell_type": "code",
      "source": [
        "#Create a Tuple\n",
        "A=(0,1,2,3)\n",
        "print(A)\n",
        "\n",
        "#Access Elements\n",
        "print(A[0:2])\n",
        "\n",
        "#Creating Lists\n",
        "B=[\"a\",\"b\",\"c\"]\n",
        "print(B[0:2])\n",
        "\n",
        "#Editing Lists\n",
        "B[0]=\"A\"\n",
        "print(B)"
      ],
      "metadata": {
        "colab": {
          "base_uri": "https://localhost:8080/"
        },
        "id": "YIpp5kuoO97v",
        "outputId": "5784dcee-9257-47a1-8a47-ac3bea3a0da8"
      },
      "execution_count": 8,
      "outputs": [
        {
          "output_type": "stream",
          "name": "stdout",
          "text": [
            "(0, 1, 2, 3)\n",
            "(0, 1)\n",
            "['a', 'b']\n",
            "['A', 'b', 'c']\n"
          ]
        }
      ]
    },
    {
      "cell_type": "code",
      "source": [
        "# Create your first tuple\n",
        "tuple1 = (\"disco\",10,1.2 )\n",
        "\n",
        "# Print the type of the tuple you created\n",
        "type(tuple1)\n",
        "\n",
        "# Print the variable on each index\n",
        "print(tuple1[0])\n",
        "print(tuple1[1])\n",
        "print(tuple1[2])\n",
        "\n",
        "# Print the type of value on each index\n",
        "print(type(tuple1[0]))\n",
        "print(type(tuple1[1]))\n",
        "print(type(tuple1[2]))\n",
        "\n",
        "# Use negative index to get the value of the last element\n",
        "print(tuple1[-3])\n",
        "\n",
        "# Concatenate two tuples\n",
        "tuple2 = tuple1 + (\"hard rock\", 10)\n",
        "print(tuple2)\n",
        "\n",
        "# Slice from index n to index m\n",
        "print(tuple2[3:5])\n",
        "print(len(tuple2))\n",
        "\n",
        "# Sorting sample tuple\n",
        "Ratings = (0, 9, 6, 5, 10, 8, 9, 6, 2)\n",
        "RatingsSorted = sorted(Ratings)\n",
        "print(Ratings)\n",
        "print(RatingsSorted)\n",
        "\n",
        "# Create a nest tuple\n",
        "NestedT =(1, 2, (\"pop\", \"rock\") ,(3,4),(\"disco\",(1,2)))\n",
        "\n",
        "# Print element on each index\n",
        "print(\"Element 0 of Tuple: \", NestedT[0])\n",
        "print(\"Element 1 of Tuple: \", NestedT[1])\n",
        "print(\"Element 2 of Tuple: \", NestedT[2])\n",
        "print(\"Element 3 of Tuple: \", NestedT[3])\n",
        "print(\"Element 4 of Tuple: \", NestedT[4])\n",
        "\n",
        "# Print element on each index, including nest indexes\n",
        "print(\"Element 2, 0 of Tuple: \",   NestedT[2][0])\n",
        "print(\"Element 2, 1 of Tuple: \",   NestedT[2][1])\n",
        "print(\"Element 3, 0 of Tuple: \",   NestedT[3][0])\n",
        "print(\"Element 3, 1 of Tuple: \",   NestedT[3][1])\n",
        "print(\"Element 4, 0 of Tuple: \",   NestedT[4][0])\n",
        "print(\"Element 4, 1 of Tuple: \",   NestedT[4][1])\n",
        "\n",
        "# Print the second element in the second nested tuples\n",
        "NestedT[4][1][1]\n",
        "\n"
      ],
      "metadata": {
        "colab": {
          "base_uri": "https://localhost:8080/"
        },
        "id": "37-18uAslHsD",
        "outputId": "db54a3ad-81ff-43c8-d1a9-cc3f750ee4bc"
      },
      "execution_count": 30,
      "outputs": [
        {
          "output_type": "stream",
          "name": "stdout",
          "text": [
            "disco\n",
            "10\n",
            "1.2\n",
            "<class 'str'>\n",
            "<class 'int'>\n",
            "<class 'float'>\n",
            "disco\n",
            "('disco', 10, 1.2, 'hard rock', 10)\n",
            "('hard rock', 10)\n",
            "5\n",
            "(0, 9, 6, 5, 10, 8, 9, 6, 2)\n",
            "[0, 2, 5, 6, 6, 8, 9, 9, 10]\n",
            "Element 0 of Tuple:  1\n",
            "Element 1 of Tuple:  2\n",
            "Element 2 of Tuple:  ('pop', 'rock')\n",
            "Element 3 of Tuple:  (3, 4)\n",
            "Element 4 of Tuple:  ('disco', (1, 2))\n",
            "Element 2, 0 of Tuple:  pop\n",
            "Element 2, 1 of Tuple:  rock\n",
            "Element 3, 0 of Tuple:  3\n",
            "Element 3, 1 of Tuple:  4\n",
            "Element 4, 0 of Tuple:  disco\n",
            "Element 4, 1 of Tuple:  (1, 2)\n"
          ]
        },
        {
          "output_type": "execute_result",
          "data": {
            "text/plain": [
              "2"
            ]
          },
          "metadata": {},
          "execution_count": 30
        }
      ]
    },
    {
      "cell_type": "code",
      "source": [
        "# Quiz on Tuples\n",
        "\n",
        "# sample tuple\n",
        "genres_tuple = (\"pop\", \"rock\", \"soul\", \"hard rock\", \"soft rock\", \\\n",
        "                \"R&B\", \"progressive rock\", \"disco\") \n",
        "#Find the length of the tuple, genres_tuple:\n",
        "print(len(genres_tuple))\n",
        "\n",
        "#Access the element, with respect to index 3\n",
        "print(genres_tuple[3])\n",
        "\n",
        "#Use slicing to obtain indexes 3, 4 and 5\n",
        "print(genres_tuple[3:6])\n",
        "\n",
        "#Find the first two elements of the tuple genres_tuple\n",
        "print(genres_tuple[0:2])\n",
        "\n",
        "#Find the first index of \"disco\"\n",
        "print(genres_tuple.index(\"disco\"))\n",
        "\n",
        "#Generate a sorted List from the Tuple C_tuple=(-5, 1, -3)\n",
        "C_tuple=(-5,1,-3)\n",
        "C_list=sorted(C_tuple)\n",
        "print(C_list)\n",
        "\n"
      ],
      "metadata": {
        "colab": {
          "base_uri": "https://localhost:8080/"
        },
        "id": "t2Bna6Zi1RS2",
        "outputId": "aee43567-96f8-4f2a-d2ba-457435a809ed"
      },
      "execution_count": 44,
      "outputs": [
        {
          "output_type": "stream",
          "name": "stdout",
          "text": [
            "8\n",
            "hard rock\n",
            "('hard rock', 'soft rock', 'R&B')\n",
            "('pop', 'rock')\n",
            "7\n",
            "[-5, -3, 1]\n"
          ]
        }
      ]
    },
    {
      "cell_type": "code",
      "source": [
        "# Create a list\n",
        "L = [\"Michael Jackson\", 10.1,1982,\"MJ\",1]\n",
        "L\n",
        "\n",
        "# Print the elements on each index\n",
        "print('the same element using negative and positive indexing:\\n Postive:',L[0],\n",
        "'\\n Negative:' , L[-3]  )\n",
        "print('the same element using negative and positive indexing:\\n Postive:',L[1],\n",
        "'\\n Negative:' , L[-2]  )\n",
        "print('the same element using negative and positive indexing:\\n Postive:',L[2],\n",
        "'\\n Negative:' , L[-1]  )\n",
        "\n",
        "# Sample List\n",
        "[\"Michael Jackson\", 10.1, 1982, [1, 2], (\"A\", 1)]\n",
        "\n",
        "# List slicing\n",
        "print(L[3:5])\n",
        "\n",
        "# Use extend to add elements to list\n",
        "L = [ \"Michael Jackson\", 10.2]\n",
        "L.extend(['pop', 10])\n",
        "print(L)\n",
        "\n",
        "# Use append to add elements to list\n",
        "L = [ \"Michael Jackson\", 10.2]\n",
        "L.append(['pop', 10])\n",
        "print(L)\n",
        "\n",
        "# Change the element based on the index\n",
        "A = [\"disco\", 10, 1.2]\n",
        "print('Before change:', A)\n",
        "A[0] = 'hard rock'\n",
        "print('After change:', A)\n",
        "\n",
        "# Delete the element based on the index\n",
        "print('Before change:', A)\n",
        "del(A[0])\n",
        "print('After change:', A)\n",
        "\n",
        "# Split the string, default is by space\n",
        "'hard rock'.split()\n",
        "\n",
        "# Split the string by comma\n",
        "'A,B,C,D'.split(',')\n",
        "\n",
        "# Copy (copy by reference) the list A\n",
        "A = [\"hard rock\", 10, 1.2]\n",
        "B = A\n",
        "print('A:', A)\n",
        "print('B:', B)\n"
      ],
      "metadata": {
        "colab": {
          "base_uri": "https://localhost:8080/"
        },
        "id": "ZVPD96Y-6VkY",
        "outputId": "c5210845-e487-4892-a482-223617ae843e"
      },
      "execution_count": 56,
      "outputs": [
        {
          "output_type": "stream",
          "name": "stdout",
          "text": [
            "the same element using negative and positive indexing:\n",
            " Postive: Michael Jackson \n",
            " Negative: 1982\n",
            "the same element using negative and positive indexing:\n",
            " Postive: 10.1 \n",
            " Negative: MJ\n",
            "the same element using negative and positive indexing:\n",
            " Postive: 1982 \n",
            " Negative: 1\n",
            "['MJ', 1]\n",
            "['Michael Jackson', 10.2, 'pop', 10]\n",
            "['Michael Jackson', 10.2, ['pop', 10]]\n",
            "Before change: ['disco', 10, 1.2]\n",
            "After change: ['hard rock', 10, 1.2]\n",
            "Before change: ['hard rock', 10, 1.2]\n",
            "After change: [10, 1.2]\n",
            "A: ['hard rock', 10, 1.2]\n",
            "B: ['hard rock', 10, 1.2]\n"
          ]
        }
      ]
    },
    {
      "cell_type": "code",
      "source": [
        "#Quiz on Lists\n",
        "\n",
        "#Create a list a_list, with the following elements 1, hello, [1,2,3] and True\n",
        "a_list = [1, 'hello', [1, 2, 3] , True]\n",
        "print(a_list)\n",
        "\n",
        "#Find the value stored at index 1 of a_list\n",
        "print(a_list[1])\n",
        "\n",
        "#Retrieve the elements stored at index 1, 2 and 3 of a_list\n",
        "print(a_list[1:4])\n",
        "\n",
        "#Concatenate the following lists A = [1, 'a'] and B = [2, 1, 'd']\n",
        "A = [1, 'a']\n",
        "B = [2, 1, 'd']\n",
        "print(A+B)"
      ],
      "metadata": {
        "colab": {
          "base_uri": "https://localhost:8080/"
        },
        "id": "kiFm24HFAkZR",
        "outputId": "df7ac70b-719e-46c9-8738-870a0af66b5e"
      },
      "execution_count": 62,
      "outputs": [
        {
          "output_type": "stream",
          "name": "stdout",
          "text": [
            "[1, 'hello', [1, 2, 3], True]\n",
            "hello\n",
            "['hello', [1, 2, 3], True]\n",
            "[1, 'a', 2, 1, 'd']\n"
          ]
        }
      ]
    },
    {
      "cell_type": "markdown",
      "source": [
        "Lab - Sets"
      ],
      "metadata": {
        "id": "Dy2rd8IBO-Nf"
      }
    },
    {
      "cell_type": "code",
      "source": [
        "#Practice with Sets\n",
        "set(['A','B','C','A','B','C'])\n",
        "\n",
        "S={'A','B','C'}\n",
        "S.add(\"D\")\n",
        "S\n",
        "\n",
        "A={1,2,3,4,5}\n",
        "B={1,3,9, 12}\n",
        "A&B\n",
        "A.intersection(B)"
      ],
      "metadata": {
        "colab": {
          "base_uri": "https://localhost:8080/"
        },
        "id": "ppN6L59RPA4w",
        "outputId": "7525010f-2818-41ed-f528-c595f427d9ee"
      },
      "execution_count": 68,
      "outputs": [
        {
          "output_type": "execute_result",
          "data": {
            "text/plain": [
              "{1, 3}"
            ]
          },
          "metadata": {},
          "execution_count": 68
        }
      ]
    },
    {
      "cell_type": "code",
      "source": [
        "#Lab Part 1\n",
        "\n",
        "# Create a set\n",
        "set1 = {\"pop\", \"rock\", \"soul\", \"hard rock\", \"rock\", \"R&B\", \"rock\", \"disco\"}\n",
        "set1\n",
        "\n",
        "# Convert list to set\n",
        "album_list = [ \"Michael Jackson\", \"Thriller\", 1982, \"00:42:19\", \\\n",
        "              \"Pop, Rock, R&B\", 46.0, 65, \"30-Nov-82\", None, 10.0]\n",
        "album_set = set(album_list)             \n",
        "album_set\n",
        "\n",
        "# Convert list to set\n",
        "music_genres = set([\"pop\", \"pop\", \"rock\", \"folk rock\", \"hard rock\", \"soul\", \\\n",
        "                    \"progressive rock\", \"soft rock\", \"R&B\", \"disco\"])\n",
        "music_genres\n",
        "\n",
        "# Sample set\n",
        "A = set([\"Thriller\", \"Back in Black\", \"AC/DC\"])\n",
        "A\n",
        "\n",
        "# Add element to set\n",
        "A.add(\"NSYNC\")\n",
        "A\n",
        "\n",
        "# Try to add duplicate element to the set\n",
        "A.add(\"NSYNC\")\n",
        "A\n",
        "\n",
        "# Remove the element from set\n",
        "A.remove(\"NSYNC\")\n",
        "A\n",
        "\n",
        "# Verify if the element is in the set\n",
        "\"AC/DC\" in A\n",
        "\n",
        "# Sample Sets\n",
        "album_set1 = set([\"Thriller\", 'AC/DC', 'Back in Black'])\n",
        "album_set2 = set([ \"AC/DC\", \"Back in Black\", \"The Dark Side of the Moon\"])\n",
        "\n",
        "# Print two sets\n",
        "album_set1, album_set2\n",
        "\n",
        "# Find the intersections\n",
        "intersection = album_set1 & album_set2\n",
        "intersection\n",
        "\n",
        "# Find the difference in set1 but not set2\n",
        "album_set1.difference(album_set2) \n",
        "album_set2.difference(album_set1) \n",
        "\n",
        "# Use intersection method to find the intersection of album_list1 and album_list2\n",
        "album_set1.intersection(album_set2)   \n",
        "\n",
        "# Find the union of two sets\n",
        "album_set1.union(album_set2)\n",
        "\n",
        "# Check if superset\n",
        "set(album_set1).issuperset(album_set2) \n",
        "\n",
        "# Check if subset\n",
        "set(album_set2).issubset(album_set1)   \n",
        "\n",
        "# Check if subset\n",
        "set({\"Back in Black\", \"AC/DC\"}).issubset(album_set1) \n",
        "\n",
        "# Check if superset\n",
        "album_set1.issuperset({\"Back in Black\", \"AC/DC\"})  "
      ],
      "metadata": {
        "colab": {
          "base_uri": "https://localhost:8080/"
        },
        "id": "7aZHRteEI-nC",
        "outputId": "3c500079-8ebd-467a-ee41-3d9ca1c5a17e"
      },
      "execution_count": 87,
      "outputs": [
        {
          "output_type": "execute_result",
          "data": {
            "text/plain": [
              "True"
            ]
          },
          "metadata": {},
          "execution_count": 87
        }
      ]
    },
    {
      "cell_type": "code",
      "source": [
        "#Quiz on Sets\n",
        "\n",
        "#Convert the list ['rap','house','electronic music', 'rap'] to a set:\n",
        "set(['rap','house','electronic music', 'rap'])\n",
        "\n",
        "#Consider the list A = [1, 2, 2, 1] and set B = set([1, 2, 2, 1]), does sum(A) == sum(B)\n",
        "A = [1, 2, 2, 1]\n",
        "B = set([1, 2, 2, 1])\n",
        "print(\"the sum of A is:\", sum(A))\n",
        "print(\"the sum of B is:\", sum(B))\n",
        "\n",
        "#Create a new set album_set3 that is the union of album_set1 and album_set2:\n",
        "album_set1 = set([\"Thriller\", 'AC/DC', 'Back in Black'])\n",
        "album_set2 = set([ \"AC/DC\", \"Back in Black\", \"The Dark Side of the Moon\"])\n",
        "\n",
        "album_set3 = album_set1.union(album_set2)\n",
        "print(album_set3)\n",
        "\n",
        "#Find out if album_set1 is a subset of album_set3:\n",
        "album_set1.issubset(album_set3)  \n"
      ],
      "metadata": {
        "colab": {
          "base_uri": "https://localhost:8080/"
        },
        "id": "3I6fLU7UMAys",
        "outputId": "37d5b316-5457-46f0-b034-011165ef2236"
      },
      "execution_count": 98,
      "outputs": [
        {
          "output_type": "stream",
          "name": "stdout",
          "text": [
            "the sum of A is: 6\n",
            "the sum of B is: 3\n",
            "{'Back in Black', 'The Dark Side of the Moon', 'AC/DC', 'Thriller'}\n"
          ]
        },
        {
          "output_type": "execute_result",
          "data": {
            "text/plain": [
              "True"
            ]
          },
          "metadata": {},
          "execution_count": 98
        }
      ]
    },
    {
      "cell_type": "code",
      "source": [
        "S={'A','B','C'}\n",
        "\n",
        "U={'A','Z','C'}\n",
        "\n",
        "U.union(S)"
      ],
      "metadata": {
        "colab": {
          "base_uri": "https://localhost:8080/"
        },
        "id": "SmBGuDulOLkp",
        "outputId": "e278e56d-35c1-443d-9c0d-133a1e81aa3a"
      },
      "execution_count": 99,
      "outputs": [
        {
          "output_type": "execute_result",
          "data": {
            "text/plain": [
              "{'A', 'B', 'C', 'Z'}"
            ]
          },
          "metadata": {},
          "execution_count": 99
        }
      ]
    },
    {
      "cell_type": "markdown",
      "source": [
        "Lab - Dictionaries"
      ],
      "metadata": {
        "id": "S9fH4ULCPBSD"
      }
    },
    {
      "cell_type": "code",
      "source": [],
      "metadata": {
        "id": "M74WhAcSPDYK"
      },
      "execution_count": null,
      "outputs": []
    },
    {
      "cell_type": "markdown",
      "source": [
        "Review Questions"
      ],
      "metadata": {
        "id": "b2Ed_GEJPDoZ"
      }
    },
    {
      "cell_type": "code",
      "source": [],
      "metadata": {
        "id": "ZQcxcuU6PFI4"
      },
      "execution_count": null,
      "outputs": []
    },
    {
      "cell_type": "markdown",
      "source": [],
      "metadata": {
        "id": "kr8fiPcVPFmf"
      }
    }
  ]
}